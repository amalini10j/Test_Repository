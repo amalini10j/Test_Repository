{
 "cells": [
  {
   "cell_type": "code",
   "execution_count": 70,
   "id": "6b40c5ee",
   "metadata": {},
   "outputs": [],
   "source": [
    "import pandas as pd\n",
    "import numpy as np\n",
    "\n",
    "import matplotlib.pyplot as plt\n",
    "from matplotlib.patches import Patch\n",
    "from matplotlib.lines import Line2D\n",
    "import seaborn as sns\n",
    "\n",
    "from catboost import CatBoostRegressor"
   ]
  },
  {
   "cell_type": "code",
   "execution_count": 71,
   "id": "b5d33aeb-c824-42b9-955e-cc02197e217a",
   "metadata": {},
   "outputs": [],
   "source": [
    "df = pd.read_csv(\"Data/covid.csv\")"
   ]
  },
  {
   "cell_type": "markdown",
   "id": "a21ed219-c4fa-4d82-adb4-11c93a044f1b",
   "metadata": {},
   "source": [
    "# Data Exploration"
   ]
  },
  {
   "cell_type": "code",
   "execution_count": 72,
   "id": "1a422aa5-3c5c-45fa-a2c9-523e24afa2aa",
   "metadata": {},
   "outputs": [
    {
     "data": {
      "text/plain": [
       "(566602, 23)"
      ]
     },
     "execution_count": 72,
     "metadata": {},
     "output_type": "execute_result"
    }
   ],
   "source": [
    "df.shape"
   ]
  },
  {
   "cell_type": "code",
   "execution_count": 73,
   "id": "4b459387-5a2b-4546-819c-f8804fee7fe3",
   "metadata": {},
   "outputs": [
    {
     "data": {
      "text/plain": [
       "Index(['id', 'sex', 'patient_type', 'entry_date', 'date_symptoms', 'date_died',\n",
       "       'intubed', 'pneumonia', 'age', 'pregnancy', 'diabetes', 'copd',\n",
       "       'asthma', 'inmsupr', 'hypertension', 'other_disease', 'cardiovascular',\n",
       "       'obesity', 'renal_chronic', 'tobacco', 'contact_other_covid',\n",
       "       'covid_res', 'icu'],\n",
       "      dtype='object')"
      ]
     },
     "execution_count": 73,
     "metadata": {},
     "output_type": "execute_result"
    }
   ],
   "source": [
    "df.columns"
   ]
  },
  {
   "cell_type": "code",
   "execution_count": 74,
   "id": "cde3c967-e433-4e4e-a3c9-a0049dc46bbc",
   "metadata": {},
   "outputs": [
    {
     "data": {
      "text/html": [
       "<div>\n",
       "<style scoped>\n",
       "    .dataframe tbody tr th:only-of-type {\n",
       "        vertical-align: middle;\n",
       "    }\n",
       "\n",
       "    .dataframe tbody tr th {\n",
       "        vertical-align: top;\n",
       "    }\n",
       "\n",
       "    .dataframe thead th {\n",
       "        text-align: right;\n",
       "    }\n",
       "</style>\n",
       "<table border=\"1\" class=\"dataframe\">\n",
       "  <thead>\n",
       "    <tr style=\"text-align: right;\">\n",
       "      <th></th>\n",
       "      <th>id</th>\n",
       "      <th>sex</th>\n",
       "      <th>patient_type</th>\n",
       "      <th>entry_date</th>\n",
       "      <th>date_symptoms</th>\n",
       "      <th>date_died</th>\n",
       "      <th>intubed</th>\n",
       "      <th>pneumonia</th>\n",
       "      <th>age</th>\n",
       "      <th>pregnancy</th>\n",
       "      <th>...</th>\n",
       "      <th>inmsupr</th>\n",
       "      <th>hypertension</th>\n",
       "      <th>other_disease</th>\n",
       "      <th>cardiovascular</th>\n",
       "      <th>obesity</th>\n",
       "      <th>renal_chronic</th>\n",
       "      <th>tobacco</th>\n",
       "      <th>contact_other_covid</th>\n",
       "      <th>covid_res</th>\n",
       "      <th>icu</th>\n",
       "    </tr>\n",
       "  </thead>\n",
       "  <tbody>\n",
       "    <tr>\n",
       "      <th>0</th>\n",
       "      <td>16169f</td>\n",
       "      <td>2</td>\n",
       "      <td>1</td>\n",
       "      <td>04-05-2020</td>\n",
       "      <td>02-05-2020</td>\n",
       "      <td>9999-99-99</td>\n",
       "      <td>97</td>\n",
       "      <td>2</td>\n",
       "      <td>27</td>\n",
       "      <td>97</td>\n",
       "      <td>...</td>\n",
       "      <td>2</td>\n",
       "      <td>2</td>\n",
       "      <td>2</td>\n",
       "      <td>2</td>\n",
       "      <td>2</td>\n",
       "      <td>2</td>\n",
       "      <td>2</td>\n",
       "      <td>2</td>\n",
       "      <td>1</td>\n",
       "      <td>97</td>\n",
       "    </tr>\n",
       "    <tr>\n",
       "      <th>1</th>\n",
       "      <td>1009bf</td>\n",
       "      <td>2</td>\n",
       "      <td>1</td>\n",
       "      <td>19-03-2020</td>\n",
       "      <td>17-03-2020</td>\n",
       "      <td>9999-99-99</td>\n",
       "      <td>97</td>\n",
       "      <td>2</td>\n",
       "      <td>24</td>\n",
       "      <td>97</td>\n",
       "      <td>...</td>\n",
       "      <td>2</td>\n",
       "      <td>2</td>\n",
       "      <td>2</td>\n",
       "      <td>2</td>\n",
       "      <td>2</td>\n",
       "      <td>2</td>\n",
       "      <td>2</td>\n",
       "      <td>99</td>\n",
       "      <td>1</td>\n",
       "      <td>97</td>\n",
       "    </tr>\n",
       "    <tr>\n",
       "      <th>2</th>\n",
       "      <td>167386</td>\n",
       "      <td>1</td>\n",
       "      <td>2</td>\n",
       "      <td>06-04-2020</td>\n",
       "      <td>01-04-2020</td>\n",
       "      <td>9999-99-99</td>\n",
       "      <td>2</td>\n",
       "      <td>2</td>\n",
       "      <td>54</td>\n",
       "      <td>2</td>\n",
       "      <td>...</td>\n",
       "      <td>2</td>\n",
       "      <td>2</td>\n",
       "      <td>2</td>\n",
       "      <td>2</td>\n",
       "      <td>1</td>\n",
       "      <td>2</td>\n",
       "      <td>2</td>\n",
       "      <td>99</td>\n",
       "      <td>1</td>\n",
       "      <td>2</td>\n",
       "    </tr>\n",
       "    <tr>\n",
       "      <th>3</th>\n",
       "      <td>0b5948</td>\n",
       "      <td>2</td>\n",
       "      <td>2</td>\n",
       "      <td>17-04-2020</td>\n",
       "      <td>10-04-2020</td>\n",
       "      <td>9999-99-99</td>\n",
       "      <td>2</td>\n",
       "      <td>1</td>\n",
       "      <td>30</td>\n",
       "      <td>97</td>\n",
       "      <td>...</td>\n",
       "      <td>2</td>\n",
       "      <td>2</td>\n",
       "      <td>2</td>\n",
       "      <td>2</td>\n",
       "      <td>2</td>\n",
       "      <td>2</td>\n",
       "      <td>2</td>\n",
       "      <td>99</td>\n",
       "      <td>1</td>\n",
       "      <td>2</td>\n",
       "    </tr>\n",
       "    <tr>\n",
       "      <th>4</th>\n",
       "      <td>0d01b5</td>\n",
       "      <td>1</td>\n",
       "      <td>2</td>\n",
       "      <td>13-04-2020</td>\n",
       "      <td>13-04-2020</td>\n",
       "      <td>22-04-2020</td>\n",
       "      <td>2</td>\n",
       "      <td>2</td>\n",
       "      <td>60</td>\n",
       "      <td>2</td>\n",
       "      <td>...</td>\n",
       "      <td>2</td>\n",
       "      <td>1</td>\n",
       "      <td>2</td>\n",
       "      <td>1</td>\n",
       "      <td>2</td>\n",
       "      <td>2</td>\n",
       "      <td>2</td>\n",
       "      <td>99</td>\n",
       "      <td>1</td>\n",
       "      <td>2</td>\n",
       "    </tr>\n",
       "    <tr>\n",
       "      <th>5</th>\n",
       "      <td>1beec8</td>\n",
       "      <td>2</td>\n",
       "      <td>2</td>\n",
       "      <td>16-04-2020</td>\n",
       "      <td>16-04-2020</td>\n",
       "      <td>29-04-2020</td>\n",
       "      <td>2</td>\n",
       "      <td>1</td>\n",
       "      <td>47</td>\n",
       "      <td>97</td>\n",
       "      <td>...</td>\n",
       "      <td>2</td>\n",
       "      <td>2</td>\n",
       "      <td>2</td>\n",
       "      <td>2</td>\n",
       "      <td>2</td>\n",
       "      <td>2</td>\n",
       "      <td>2</td>\n",
       "      <td>99</td>\n",
       "      <td>1</td>\n",
       "      <td>1</td>\n",
       "    </tr>\n",
       "    <tr>\n",
       "      <th>6</th>\n",
       "      <td>1.75E+56</td>\n",
       "      <td>2</td>\n",
       "      <td>2</td>\n",
       "      <td>22-04-2020</td>\n",
       "      <td>13-04-2020</td>\n",
       "      <td>9999-99-99</td>\n",
       "      <td>2</td>\n",
       "      <td>2</td>\n",
       "      <td>63</td>\n",
       "      <td>97</td>\n",
       "      <td>...</td>\n",
       "      <td>2</td>\n",
       "      <td>1</td>\n",
       "      <td>2</td>\n",
       "      <td>2</td>\n",
       "      <td>2</td>\n",
       "      <td>2</td>\n",
       "      <td>2</td>\n",
       "      <td>99</td>\n",
       "      <td>1</td>\n",
       "      <td>2</td>\n",
       "    </tr>\n",
       "    <tr>\n",
       "      <th>7</th>\n",
       "      <td>0ce1f5</td>\n",
       "      <td>1</td>\n",
       "      <td>1</td>\n",
       "      <td>21-05-2020</td>\n",
       "      <td>18-05-2020</td>\n",
       "      <td>9999-99-99</td>\n",
       "      <td>97</td>\n",
       "      <td>2</td>\n",
       "      <td>56</td>\n",
       "      <td>2</td>\n",
       "      <td>...</td>\n",
       "      <td>2</td>\n",
       "      <td>1</td>\n",
       "      <td>2</td>\n",
       "      <td>2</td>\n",
       "      <td>2</td>\n",
       "      <td>1</td>\n",
       "      <td>1</td>\n",
       "      <td>1</td>\n",
       "      <td>1</td>\n",
       "      <td>97</td>\n",
       "    </tr>\n",
       "    <tr>\n",
       "      <th>8</th>\n",
       "      <td>12b57a</td>\n",
       "      <td>1</td>\n",
       "      <td>1</td>\n",
       "      <td>22-04-2020</td>\n",
       "      <td>18-04-2020</td>\n",
       "      <td>9999-99-99</td>\n",
       "      <td>97</td>\n",
       "      <td>2</td>\n",
       "      <td>41</td>\n",
       "      <td>2</td>\n",
       "      <td>...</td>\n",
       "      <td>2</td>\n",
       "      <td>2</td>\n",
       "      <td>2</td>\n",
       "      <td>2</td>\n",
       "      <td>2</td>\n",
       "      <td>2</td>\n",
       "      <td>2</td>\n",
       "      <td>99</td>\n",
       "      <td>1</td>\n",
       "      <td>97</td>\n",
       "    </tr>\n",
       "    <tr>\n",
       "      <th>9</th>\n",
       "      <td>006b91</td>\n",
       "      <td>1</td>\n",
       "      <td>2</td>\n",
       "      <td>23-04-2020</td>\n",
       "      <td>18-04-2020</td>\n",
       "      <td>9999-99-99</td>\n",
       "      <td>1</td>\n",
       "      <td>1</td>\n",
       "      <td>39</td>\n",
       "      <td>2</td>\n",
       "      <td>...</td>\n",
       "      <td>2</td>\n",
       "      <td>2</td>\n",
       "      <td>2</td>\n",
       "      <td>2</td>\n",
       "      <td>1</td>\n",
       "      <td>2</td>\n",
       "      <td>2</td>\n",
       "      <td>99</td>\n",
       "      <td>1</td>\n",
       "      <td>2</td>\n",
       "    </tr>\n",
       "    <tr>\n",
       "      <th>10</th>\n",
       "      <td>0dfc54</td>\n",
       "      <td>1</td>\n",
       "      <td>2</td>\n",
       "      <td>22-04-2020</td>\n",
       "      <td>22-04-2020</td>\n",
       "      <td>9999-99-99</td>\n",
       "      <td>2</td>\n",
       "      <td>1</td>\n",
       "      <td>46</td>\n",
       "      <td>2</td>\n",
       "      <td>...</td>\n",
       "      <td>2</td>\n",
       "      <td>2</td>\n",
       "      <td>2</td>\n",
       "      <td>2</td>\n",
       "      <td>2</td>\n",
       "      <td>2</td>\n",
       "      <td>2</td>\n",
       "      <td>99</td>\n",
       "      <td>1</td>\n",
       "      <td>2</td>\n",
       "    </tr>\n",
       "    <tr>\n",
       "      <th>11</th>\n",
       "      <td>17e2a5</td>\n",
       "      <td>1</td>\n",
       "      <td>1</td>\n",
       "      <td>29-04-2020</td>\n",
       "      <td>27-04-2020</td>\n",
       "      <td>9999-99-99</td>\n",
       "      <td>97</td>\n",
       "      <td>2</td>\n",
       "      <td>45</td>\n",
       "      <td>2</td>\n",
       "      <td>...</td>\n",
       "      <td>2</td>\n",
       "      <td>2</td>\n",
       "      <td>2</td>\n",
       "      <td>2</td>\n",
       "      <td>2</td>\n",
       "      <td>2</td>\n",
       "      <td>2</td>\n",
       "      <td>99</td>\n",
       "      <td>1</td>\n",
       "      <td>97</td>\n",
       "    </tr>\n",
       "    <tr>\n",
       "      <th>12</th>\n",
       "      <td>126f5c</td>\n",
       "      <td>2</td>\n",
       "      <td>2</td>\n",
       "      <td>02-05-2020</td>\n",
       "      <td>02-05-2020</td>\n",
       "      <td>9999-99-99</td>\n",
       "      <td>2</td>\n",
       "      <td>2</td>\n",
       "      <td>28</td>\n",
       "      <td>97</td>\n",
       "      <td>...</td>\n",
       "      <td>2</td>\n",
       "      <td>2</td>\n",
       "      <td>2</td>\n",
       "      <td>2</td>\n",
       "      <td>2</td>\n",
       "      <td>2</td>\n",
       "      <td>2</td>\n",
       "      <td>99</td>\n",
       "      <td>1</td>\n",
       "      <td>2</td>\n",
       "    </tr>\n",
       "    <tr>\n",
       "      <th>13</th>\n",
       "      <td>11c741</td>\n",
       "      <td>1</td>\n",
       "      <td>1</td>\n",
       "      <td>25-05-2020</td>\n",
       "      <td>23-05-2020</td>\n",
       "      <td>9999-99-99</td>\n",
       "      <td>97</td>\n",
       "      <td>2</td>\n",
       "      <td>34</td>\n",
       "      <td>2</td>\n",
       "      <td>...</td>\n",
       "      <td>2</td>\n",
       "      <td>2</td>\n",
       "      <td>2</td>\n",
       "      <td>2</td>\n",
       "      <td>2</td>\n",
       "      <td>2</td>\n",
       "      <td>2</td>\n",
       "      <td>1</td>\n",
       "      <td>1</td>\n",
       "      <td>97</td>\n",
       "    </tr>\n",
       "    <tr>\n",
       "      <th>14</th>\n",
       "      <td>07a42e</td>\n",
       "      <td>2</td>\n",
       "      <td>1</td>\n",
       "      <td>07-06-2020</td>\n",
       "      <td>04-06-2020</td>\n",
       "      <td>9999-99-99</td>\n",
       "      <td>97</td>\n",
       "      <td>2</td>\n",
       "      <td>38</td>\n",
       "      <td>97</td>\n",
       "      <td>...</td>\n",
       "      <td>2</td>\n",
       "      <td>2</td>\n",
       "      <td>2</td>\n",
       "      <td>2</td>\n",
       "      <td>2</td>\n",
       "      <td>2</td>\n",
       "      <td>2</td>\n",
       "      <td>99</td>\n",
       "      <td>1</td>\n",
       "      <td>97</td>\n",
       "    </tr>\n",
       "  </tbody>\n",
       "</table>\n",
       "<p>15 rows × 23 columns</p>\n",
       "</div>"
      ],
      "text/plain": [
       "          id  sex  patient_type  entry_date date_symptoms   date_died  \\\n",
       "0     16169f    2             1  04-05-2020    02-05-2020  9999-99-99   \n",
       "1     1009bf    2             1  19-03-2020    17-03-2020  9999-99-99   \n",
       "2     167386    1             2  06-04-2020    01-04-2020  9999-99-99   \n",
       "3     0b5948    2             2  17-04-2020    10-04-2020  9999-99-99   \n",
       "4     0d01b5    1             2  13-04-2020    13-04-2020  22-04-2020   \n",
       "5     1beec8    2             2  16-04-2020    16-04-2020  29-04-2020   \n",
       "6   1.75E+56    2             2  22-04-2020    13-04-2020  9999-99-99   \n",
       "7     0ce1f5    1             1  21-05-2020    18-05-2020  9999-99-99   \n",
       "8     12b57a    1             1  22-04-2020    18-04-2020  9999-99-99   \n",
       "9     006b91    1             2  23-04-2020    18-04-2020  9999-99-99   \n",
       "10    0dfc54    1             2  22-04-2020    22-04-2020  9999-99-99   \n",
       "11    17e2a5    1             1  29-04-2020    27-04-2020  9999-99-99   \n",
       "12    126f5c    2             2  02-05-2020    02-05-2020  9999-99-99   \n",
       "13    11c741    1             1  25-05-2020    23-05-2020  9999-99-99   \n",
       "14    07a42e    2             1  07-06-2020    04-06-2020  9999-99-99   \n",
       "\n",
       "    intubed  pneumonia  age  pregnancy  ...  inmsupr  hypertension  \\\n",
       "0        97          2   27         97  ...        2             2   \n",
       "1        97          2   24         97  ...        2             2   \n",
       "2         2          2   54          2  ...        2             2   \n",
       "3         2          1   30         97  ...        2             2   \n",
       "4         2          2   60          2  ...        2             1   \n",
       "5         2          1   47         97  ...        2             2   \n",
       "6         2          2   63         97  ...        2             1   \n",
       "7        97          2   56          2  ...        2             1   \n",
       "8        97          2   41          2  ...        2             2   \n",
       "9         1          1   39          2  ...        2             2   \n",
       "10        2          1   46          2  ...        2             2   \n",
       "11       97          2   45          2  ...        2             2   \n",
       "12        2          2   28         97  ...        2             2   \n",
       "13       97          2   34          2  ...        2             2   \n",
       "14       97          2   38         97  ...        2             2   \n",
       "\n",
       "    other_disease  cardiovascular  obesity  renal_chronic  tobacco  \\\n",
       "0               2               2        2              2        2   \n",
       "1               2               2        2              2        2   \n",
       "2               2               2        1              2        2   \n",
       "3               2               2        2              2        2   \n",
       "4               2               1        2              2        2   \n",
       "5               2               2        2              2        2   \n",
       "6               2               2        2              2        2   \n",
       "7               2               2        2              1        1   \n",
       "8               2               2        2              2        2   \n",
       "9               2               2        1              2        2   \n",
       "10              2               2        2              2        2   \n",
       "11              2               2        2              2        2   \n",
       "12              2               2        2              2        2   \n",
       "13              2               2        2              2        2   \n",
       "14              2               2        2              2        2   \n",
       "\n",
       "    contact_other_covid  covid_res  icu  \n",
       "0                     2          1   97  \n",
       "1                    99          1   97  \n",
       "2                    99          1    2  \n",
       "3                    99          1    2  \n",
       "4                    99          1    2  \n",
       "5                    99          1    1  \n",
       "6                    99          1    2  \n",
       "7                     1          1   97  \n",
       "8                    99          1   97  \n",
       "9                    99          1    2  \n",
       "10                   99          1    2  \n",
       "11                   99          1   97  \n",
       "12                   99          1    2  \n",
       "13                    1          1   97  \n",
       "14                   99          1   97  \n",
       "\n",
       "[15 rows x 23 columns]"
      ]
     },
     "execution_count": 74,
     "metadata": {},
     "output_type": "execute_result"
    }
   ],
   "source": [
    "df.head(15)"
   ]
  },
  {
   "cell_type": "code",
   "execution_count": 75,
   "id": "49df20a5-1f70-4675-8501-527df4ab3910",
   "metadata": {},
   "outputs": [
    {
     "data": {
      "text/plain": [
       "id                     0\n",
       "sex                    0\n",
       "patient_type           0\n",
       "entry_date             0\n",
       "date_symptoms          0\n",
       "date_died              0\n",
       "intubed                0\n",
       "pneumonia              0\n",
       "age                    0\n",
       "pregnancy              0\n",
       "diabetes               0\n",
       "copd                   0\n",
       "asthma                 0\n",
       "inmsupr                0\n",
       "hypertension           0\n",
       "other_disease          0\n",
       "cardiovascular         0\n",
       "obesity                0\n",
       "renal_chronic          0\n",
       "tobacco                0\n",
       "contact_other_covid    0\n",
       "covid_res              0\n",
       "icu                    0\n",
       "dtype: int64"
      ]
     },
     "execution_count": 75,
     "metadata": {},
     "output_type": "execute_result"
    }
   ],
   "source": [
    "df.isnull().sum()"
   ]
  },
  {
   "cell_type": "code",
   "execution_count": 76,
   "id": "1ea6560b-d065-4f7c-8a79-c4073b488b0c",
   "metadata": {},
   "outputs": [
    {
     "name": "stdout",
     "output_type": "stream",
     "text": [
      "<class 'pandas.core.frame.DataFrame'>\n",
      "RangeIndex: 566602 entries, 0 to 566601\n",
      "Data columns (total 23 columns):\n",
      " #   Column               Non-Null Count   Dtype \n",
      "---  ------               --------------   ----- \n",
      " 0   id                   566602 non-null  object\n",
      " 1   sex                  566602 non-null  int64 \n",
      " 2   patient_type         566602 non-null  int64 \n",
      " 3   entry_date           566602 non-null  object\n",
      " 4   date_symptoms        566602 non-null  object\n",
      " 5   date_died            566602 non-null  object\n",
      " 6   intubed              566602 non-null  int64 \n",
      " 7   pneumonia            566602 non-null  int64 \n",
      " 8   age                  566602 non-null  int64 \n",
      " 9   pregnancy            566602 non-null  int64 \n",
      " 10  diabetes             566602 non-null  int64 \n",
      " 11  copd                 566602 non-null  int64 \n",
      " 12  asthma               566602 non-null  int64 \n",
      " 13  inmsupr              566602 non-null  int64 \n",
      " 14  hypertension         566602 non-null  int64 \n",
      " 15  other_disease        566602 non-null  int64 \n",
      " 16  cardiovascular       566602 non-null  int64 \n",
      " 17  obesity              566602 non-null  int64 \n",
      " 18  renal_chronic        566602 non-null  int64 \n",
      " 19  tobacco              566602 non-null  int64 \n",
      " 20  contact_other_covid  566602 non-null  int64 \n",
      " 21  covid_res            566602 non-null  int64 \n",
      " 22  icu                  566602 non-null  int64 \n",
      "dtypes: int64(19), object(4)\n",
      "memory usage: 99.4+ MB\n"
     ]
    }
   ],
   "source": [
    "df.info()"
   ]
  },
  {
   "cell_type": "code",
   "execution_count": 77,
   "id": "d99f26e8-cb6b-4048-ae0f-c538fc3f1c7a",
   "metadata": {},
   "outputs": [
    {
     "name": "stdout",
     "output_type": "stream",
     "text": [
      "4063\n"
     ]
    }
   ],
   "source": [
    "# How many female patients are pregnant\n",
    "\n",
    "x = df.loc[(df.sex == 1) & (df.pregnancy == 1)]\n",
    "print(len(x))"
   ]
  },
  {
   "cell_type": "code",
   "execution_count": 78,
   "id": "77a8d9ff-629c-42ed-843d-4f7d90f4f514",
   "metadata": {},
   "outputs": [
    {
     "name": "stdout",
     "output_type": "stream",
     "text": [
      "25846\n"
     ]
    }
   ],
   "source": [
    "# How many Covid positive patients were tobacco users\n",
    "\n",
    "x = df.loc[(df.covid_res == 2) & (df.tobacco == 1)]\n",
    "print(len(x))"
   ]
  },
  {
   "cell_type": "markdown",
   "id": "d8e0d30e-1e52-419c-b581-c2d736fc9740",
   "metadata": {},
   "source": [
    "# Finding value counts of categorical variables"
   ]
  },
  {
   "cell_type": "markdown",
   "id": "707fa29c-0c21-48ec-adc6-1ccca57036c2",
   "metadata": {},
   "source": [
    "CLAVE\tDESCRIPCIÓN\n",
    "1\tYES\n",
    "2\tNO\n",
    "97\tNot Applicable\n",
    "98\tIgnore\n",
    "99\tNot Specified\n",
    "\n",
    "1\tFemale\n",
    "2\tMale\n",
    "99\tNot Specified"
   ]
  },
  {
   "cell_type": "code",
   "execution_count": 79,
   "id": "8a30d24d-2622-4c1a-83db-4a8a5c4008e0",
   "metadata": {},
   "outputs": [],
   "source": [
    "# Create a subset of categorical variables only\n",
    "subset = df.drop(columns= ['date_died', 'entry_date', 'date_symptoms', 'id', 'age'])"
   ]
  },
  {
   "cell_type": "code",
   "execution_count": 80,
   "id": "cbef45d7-6aed-4df9-add9-6cf0f4c21ba7",
   "metadata": {},
   "outputs": [
    {
     "name": "stdout",
     "output_type": "stream",
     "text": [
      "2    287112\n",
      "1    279490\n",
      "Name: sex, dtype: int64\n",
      "1    444689\n",
      "2    121913\n",
      "Name: patient_type, dtype: int64\n",
      "97    444689\n",
      "2     111824\n",
      "1       9965\n",
      "99       124\n",
      "Name: intubed, dtype: int64\n",
      "2     478416\n",
      "1      88175\n",
      "99        11\n",
      "Name: pneumonia, dtype: int64\n",
      "97    287112\n",
      "2     273840\n",
      "1       4063\n",
      "98      1587\n",
      "Name: pregnancy, dtype: int64\n",
      "2     493790\n",
      "1      70831\n",
      "98      1981\n",
      "Name: diabetes, dtype: int64\n",
      "2     555723\n",
      "1       9130\n",
      "98      1749\n",
      "Name: copd, dtype: int64\n",
      "2     546824\n",
      "1      18026\n",
      "98      1752\n",
      "Name: asthma, dtype: int64\n",
      "2     555644\n",
      "1       8978\n",
      "98      1980\n",
      "Name: inmsupr, dtype: int64\n",
      "2     472270\n",
      "1      92508\n",
      "98      1824\n",
      "Name: hypertension, dtype: int64\n",
      "2     546920\n",
      "1      17084\n",
      "98      2598\n",
      "Name: other_disease, dtype: int64\n",
      "2     552005\n",
      "1      12775\n",
      "98      1822\n",
      "Name: cardiovascular, dtype: int64\n",
      "2     472549\n",
      "1      92272\n",
      "98      1781\n",
      "Name: obesity, dtype: int64\n",
      "2     553560\n",
      "1      11250\n",
      "98      1792\n",
      "Name: renal_chronic, dtype: int64\n",
      "2     516678\n",
      "1      48017\n",
      "98      1907\n",
      "Name: tobacco, dtype: int64\n",
      "1     221867\n",
      "99    175031\n",
      "2     169704\n",
      "Name: contact_other_covid, dtype: int64\n",
      "2    279035\n",
      "1    220657\n",
      "3     66910\n",
      "Name: covid_res, dtype: int64\n",
      "97    444689\n",
      "2     111676\n",
      "1      10112\n",
      "99       125\n",
      "Name: icu, dtype: int64\n"
     ]
    }
   ],
   "source": [
    "for col in subset.columns:\n",
    "    print(subset[col].value_counts())"
   ]
  },
  {
   "cell_type": "code",
   "execution_count": 81,
   "id": "ea85df90-17ef-4c18-9c5e-3fb6c089f210",
   "metadata": {},
   "outputs": [],
   "source": [
    "# Removing rows that have covid_res= 3 meaning 'pending'\n",
    "index_names = df[ df['covid_res'] == 3 ].index\n",
    "df.drop(index_names, inplace = True)"
   ]
  },
  {
   "cell_type": "code",
   "execution_count": 82,
   "id": "460b7cdc-62d1-44fd-b7c4-8e8466f614d1",
   "metadata": {},
   "outputs": [
    {
     "data": {
      "text/plain": [
       "2    279035\n",
       "1    220657\n",
       "Name: covid_res, dtype: int64"
      ]
     },
     "execution_count": 82,
     "metadata": {},
     "output_type": "execute_result"
    }
   ],
   "source": [
    "# Checking value_counts of covid_res column\n",
    "df['covid_res'].value_counts()"
   ]
  },
  {
   "cell_type": "code",
   "execution_count": 83,
   "id": "61cd65bb-eb46-428d-a1e3-cb5728f72e9f",
   "metadata": {},
   "outputs": [],
   "source": [
    "# Change date_died column to categorical data \"9999-99-99\" to 0 and row with date to 1\n",
    "df.loc[df.date_died == \"9999-99-99\", \"date_died\"] = 0"
   ]
  },
  {
   "cell_type": "code",
   "execution_count": 84,
   "id": "f17aee19-df80-4d20-9253-349e48da0773",
   "metadata": {},
   "outputs": [
    {
     "data": {
      "text/html": [
       "<div>\n",
       "<style scoped>\n",
       "    .dataframe tbody tr th:only-of-type {\n",
       "        vertical-align: middle;\n",
       "    }\n",
       "\n",
       "    .dataframe tbody tr th {\n",
       "        vertical-align: top;\n",
       "    }\n",
       "\n",
       "    .dataframe thead th {\n",
       "        text-align: right;\n",
       "    }\n",
       "</style>\n",
       "<table border=\"1\" class=\"dataframe\">\n",
       "  <thead>\n",
       "    <tr style=\"text-align: right;\">\n",
       "      <th></th>\n",
       "      <th>id</th>\n",
       "      <th>sex</th>\n",
       "      <th>patient_type</th>\n",
       "      <th>entry_date</th>\n",
       "      <th>date_symptoms</th>\n",
       "      <th>date_died</th>\n",
       "      <th>intubed</th>\n",
       "      <th>pneumonia</th>\n",
       "      <th>age</th>\n",
       "      <th>pregnancy</th>\n",
       "      <th>...</th>\n",
       "      <th>inmsupr</th>\n",
       "      <th>hypertension</th>\n",
       "      <th>other_disease</th>\n",
       "      <th>cardiovascular</th>\n",
       "      <th>obesity</th>\n",
       "      <th>renal_chronic</th>\n",
       "      <th>tobacco</th>\n",
       "      <th>contact_other_covid</th>\n",
       "      <th>covid_res</th>\n",
       "      <th>icu</th>\n",
       "    </tr>\n",
       "  </thead>\n",
       "  <tbody>\n",
       "    <tr>\n",
       "      <th>0</th>\n",
       "      <td>16169f</td>\n",
       "      <td>2</td>\n",
       "      <td>1</td>\n",
       "      <td>04-05-2020</td>\n",
       "      <td>02-05-2020</td>\n",
       "      <td>0</td>\n",
       "      <td>97</td>\n",
       "      <td>2</td>\n",
       "      <td>27</td>\n",
       "      <td>97</td>\n",
       "      <td>...</td>\n",
       "      <td>2</td>\n",
       "      <td>2</td>\n",
       "      <td>2</td>\n",
       "      <td>2</td>\n",
       "      <td>2</td>\n",
       "      <td>2</td>\n",
       "      <td>2</td>\n",
       "      <td>2</td>\n",
       "      <td>1</td>\n",
       "      <td>97</td>\n",
       "    </tr>\n",
       "    <tr>\n",
       "      <th>1</th>\n",
       "      <td>1009bf</td>\n",
       "      <td>2</td>\n",
       "      <td>1</td>\n",
       "      <td>19-03-2020</td>\n",
       "      <td>17-03-2020</td>\n",
       "      <td>0</td>\n",
       "      <td>97</td>\n",
       "      <td>2</td>\n",
       "      <td>24</td>\n",
       "      <td>97</td>\n",
       "      <td>...</td>\n",
       "      <td>2</td>\n",
       "      <td>2</td>\n",
       "      <td>2</td>\n",
       "      <td>2</td>\n",
       "      <td>2</td>\n",
       "      <td>2</td>\n",
       "      <td>2</td>\n",
       "      <td>99</td>\n",
       "      <td>1</td>\n",
       "      <td>97</td>\n",
       "    </tr>\n",
       "    <tr>\n",
       "      <th>2</th>\n",
       "      <td>167386</td>\n",
       "      <td>1</td>\n",
       "      <td>2</td>\n",
       "      <td>06-04-2020</td>\n",
       "      <td>01-04-2020</td>\n",
       "      <td>0</td>\n",
       "      <td>2</td>\n",
       "      <td>2</td>\n",
       "      <td>54</td>\n",
       "      <td>2</td>\n",
       "      <td>...</td>\n",
       "      <td>2</td>\n",
       "      <td>2</td>\n",
       "      <td>2</td>\n",
       "      <td>2</td>\n",
       "      <td>1</td>\n",
       "      <td>2</td>\n",
       "      <td>2</td>\n",
       "      <td>99</td>\n",
       "      <td>1</td>\n",
       "      <td>2</td>\n",
       "    </tr>\n",
       "    <tr>\n",
       "      <th>3</th>\n",
       "      <td>0b5948</td>\n",
       "      <td>2</td>\n",
       "      <td>2</td>\n",
       "      <td>17-04-2020</td>\n",
       "      <td>10-04-2020</td>\n",
       "      <td>0</td>\n",
       "      <td>2</td>\n",
       "      <td>1</td>\n",
       "      <td>30</td>\n",
       "      <td>97</td>\n",
       "      <td>...</td>\n",
       "      <td>2</td>\n",
       "      <td>2</td>\n",
       "      <td>2</td>\n",
       "      <td>2</td>\n",
       "      <td>2</td>\n",
       "      <td>2</td>\n",
       "      <td>2</td>\n",
       "      <td>99</td>\n",
       "      <td>1</td>\n",
       "      <td>2</td>\n",
       "    </tr>\n",
       "    <tr>\n",
       "      <th>4</th>\n",
       "      <td>0d01b5</td>\n",
       "      <td>1</td>\n",
       "      <td>2</td>\n",
       "      <td>13-04-2020</td>\n",
       "      <td>13-04-2020</td>\n",
       "      <td>22-04-2020</td>\n",
       "      <td>2</td>\n",
       "      <td>2</td>\n",
       "      <td>60</td>\n",
       "      <td>2</td>\n",
       "      <td>...</td>\n",
       "      <td>2</td>\n",
       "      <td>1</td>\n",
       "      <td>2</td>\n",
       "      <td>1</td>\n",
       "      <td>2</td>\n",
       "      <td>2</td>\n",
       "      <td>2</td>\n",
       "      <td>99</td>\n",
       "      <td>1</td>\n",
       "      <td>2</td>\n",
       "    </tr>\n",
       "  </tbody>\n",
       "</table>\n",
       "<p>5 rows × 23 columns</p>\n",
       "</div>"
      ],
      "text/plain": [
       "       id  sex  patient_type  entry_date date_symptoms   date_died  intubed  \\\n",
       "0  16169f    2             1  04-05-2020    02-05-2020           0       97   \n",
       "1  1009bf    2             1  19-03-2020    17-03-2020           0       97   \n",
       "2  167386    1             2  06-04-2020    01-04-2020           0        2   \n",
       "3  0b5948    2             2  17-04-2020    10-04-2020           0        2   \n",
       "4  0d01b5    1             2  13-04-2020    13-04-2020  22-04-2020        2   \n",
       "\n",
       "   pneumonia  age  pregnancy  ...  inmsupr  hypertension  other_disease  \\\n",
       "0          2   27         97  ...        2             2              2   \n",
       "1          2   24         97  ...        2             2              2   \n",
       "2          2   54          2  ...        2             2              2   \n",
       "3          1   30         97  ...        2             2              2   \n",
       "4          2   60          2  ...        2             1              2   \n",
       "\n",
       "   cardiovascular  obesity  renal_chronic  tobacco  contact_other_covid  \\\n",
       "0               2        2              2        2                    2   \n",
       "1               2        2              2        2                   99   \n",
       "2               2        1              2        2                   99   \n",
       "3               2        2              2        2                   99   \n",
       "4               1        2              2        2                   99   \n",
       "\n",
       "   covid_res  icu  \n",
       "0          1   97  \n",
       "1          1   97  \n",
       "2          1    2  \n",
       "3          1    2  \n",
       "4          1    2  \n",
       "\n",
       "[5 rows x 23 columns]"
      ]
     },
     "execution_count": 84,
     "metadata": {},
     "output_type": "execute_result"
    }
   ],
   "source": [
    "df.head()"
   ]
  },
  {
   "cell_type": "code",
   "execution_count": 85,
   "id": "0d3a5956-416a-4741-871a-63242fd221f4",
   "metadata": {},
   "outputs": [],
   "source": [
    "df.loc[df.date_died != 0, \"date_died\"] = 1"
   ]
  },
  {
   "cell_type": "code",
   "execution_count": 86,
   "id": "f97b4cc9-9987-48ff-b986-76aaa9dd3952",
   "metadata": {},
   "outputs": [
    {
     "data": {
      "text/html": [
       "<div>\n",
       "<style scoped>\n",
       "    .dataframe tbody tr th:only-of-type {\n",
       "        vertical-align: middle;\n",
       "    }\n",
       "\n",
       "    .dataframe tbody tr th {\n",
       "        vertical-align: top;\n",
       "    }\n",
       "\n",
       "    .dataframe thead th {\n",
       "        text-align: right;\n",
       "    }\n",
       "</style>\n",
       "<table border=\"1\" class=\"dataframe\">\n",
       "  <thead>\n",
       "    <tr style=\"text-align: right;\">\n",
       "      <th></th>\n",
       "      <th>id</th>\n",
       "      <th>sex</th>\n",
       "      <th>patient_type</th>\n",
       "      <th>entry_date</th>\n",
       "      <th>date_symptoms</th>\n",
       "      <th>date_died</th>\n",
       "      <th>intubed</th>\n",
       "      <th>pneumonia</th>\n",
       "      <th>age</th>\n",
       "      <th>pregnancy</th>\n",
       "      <th>...</th>\n",
       "      <th>inmsupr</th>\n",
       "      <th>hypertension</th>\n",
       "      <th>other_disease</th>\n",
       "      <th>cardiovascular</th>\n",
       "      <th>obesity</th>\n",
       "      <th>renal_chronic</th>\n",
       "      <th>tobacco</th>\n",
       "      <th>contact_other_covid</th>\n",
       "      <th>covid_res</th>\n",
       "      <th>icu</th>\n",
       "    </tr>\n",
       "  </thead>\n",
       "  <tbody>\n",
       "    <tr>\n",
       "      <th>0</th>\n",
       "      <td>16169f</td>\n",
       "      <td>2</td>\n",
       "      <td>1</td>\n",
       "      <td>04-05-2020</td>\n",
       "      <td>02-05-2020</td>\n",
       "      <td>0</td>\n",
       "      <td>97</td>\n",
       "      <td>2</td>\n",
       "      <td>27</td>\n",
       "      <td>97</td>\n",
       "      <td>...</td>\n",
       "      <td>2</td>\n",
       "      <td>2</td>\n",
       "      <td>2</td>\n",
       "      <td>2</td>\n",
       "      <td>2</td>\n",
       "      <td>2</td>\n",
       "      <td>2</td>\n",
       "      <td>2</td>\n",
       "      <td>1</td>\n",
       "      <td>97</td>\n",
       "    </tr>\n",
       "    <tr>\n",
       "      <th>1</th>\n",
       "      <td>1009bf</td>\n",
       "      <td>2</td>\n",
       "      <td>1</td>\n",
       "      <td>19-03-2020</td>\n",
       "      <td>17-03-2020</td>\n",
       "      <td>0</td>\n",
       "      <td>97</td>\n",
       "      <td>2</td>\n",
       "      <td>24</td>\n",
       "      <td>97</td>\n",
       "      <td>...</td>\n",
       "      <td>2</td>\n",
       "      <td>2</td>\n",
       "      <td>2</td>\n",
       "      <td>2</td>\n",
       "      <td>2</td>\n",
       "      <td>2</td>\n",
       "      <td>2</td>\n",
       "      <td>99</td>\n",
       "      <td>1</td>\n",
       "      <td>97</td>\n",
       "    </tr>\n",
       "    <tr>\n",
       "      <th>2</th>\n",
       "      <td>167386</td>\n",
       "      <td>1</td>\n",
       "      <td>2</td>\n",
       "      <td>06-04-2020</td>\n",
       "      <td>01-04-2020</td>\n",
       "      <td>0</td>\n",
       "      <td>2</td>\n",
       "      <td>2</td>\n",
       "      <td>54</td>\n",
       "      <td>2</td>\n",
       "      <td>...</td>\n",
       "      <td>2</td>\n",
       "      <td>2</td>\n",
       "      <td>2</td>\n",
       "      <td>2</td>\n",
       "      <td>1</td>\n",
       "      <td>2</td>\n",
       "      <td>2</td>\n",
       "      <td>99</td>\n",
       "      <td>1</td>\n",
       "      <td>2</td>\n",
       "    </tr>\n",
       "    <tr>\n",
       "      <th>3</th>\n",
       "      <td>0b5948</td>\n",
       "      <td>2</td>\n",
       "      <td>2</td>\n",
       "      <td>17-04-2020</td>\n",
       "      <td>10-04-2020</td>\n",
       "      <td>0</td>\n",
       "      <td>2</td>\n",
       "      <td>1</td>\n",
       "      <td>30</td>\n",
       "      <td>97</td>\n",
       "      <td>...</td>\n",
       "      <td>2</td>\n",
       "      <td>2</td>\n",
       "      <td>2</td>\n",
       "      <td>2</td>\n",
       "      <td>2</td>\n",
       "      <td>2</td>\n",
       "      <td>2</td>\n",
       "      <td>99</td>\n",
       "      <td>1</td>\n",
       "      <td>2</td>\n",
       "    </tr>\n",
       "    <tr>\n",
       "      <th>4</th>\n",
       "      <td>0d01b5</td>\n",
       "      <td>1</td>\n",
       "      <td>2</td>\n",
       "      <td>13-04-2020</td>\n",
       "      <td>13-04-2020</td>\n",
       "      <td>1</td>\n",
       "      <td>2</td>\n",
       "      <td>2</td>\n",
       "      <td>60</td>\n",
       "      <td>2</td>\n",
       "      <td>...</td>\n",
       "      <td>2</td>\n",
       "      <td>1</td>\n",
       "      <td>2</td>\n",
       "      <td>1</td>\n",
       "      <td>2</td>\n",
       "      <td>2</td>\n",
       "      <td>2</td>\n",
       "      <td>99</td>\n",
       "      <td>1</td>\n",
       "      <td>2</td>\n",
       "    </tr>\n",
       "    <tr>\n",
       "      <th>5</th>\n",
       "      <td>1beec8</td>\n",
       "      <td>2</td>\n",
       "      <td>2</td>\n",
       "      <td>16-04-2020</td>\n",
       "      <td>16-04-2020</td>\n",
       "      <td>1</td>\n",
       "      <td>2</td>\n",
       "      <td>1</td>\n",
       "      <td>47</td>\n",
       "      <td>97</td>\n",
       "      <td>...</td>\n",
       "      <td>2</td>\n",
       "      <td>2</td>\n",
       "      <td>2</td>\n",
       "      <td>2</td>\n",
       "      <td>2</td>\n",
       "      <td>2</td>\n",
       "      <td>2</td>\n",
       "      <td>99</td>\n",
       "      <td>1</td>\n",
       "      <td>1</td>\n",
       "    </tr>\n",
       "    <tr>\n",
       "      <th>6</th>\n",
       "      <td>1.75E+56</td>\n",
       "      <td>2</td>\n",
       "      <td>2</td>\n",
       "      <td>22-04-2020</td>\n",
       "      <td>13-04-2020</td>\n",
       "      <td>0</td>\n",
       "      <td>2</td>\n",
       "      <td>2</td>\n",
       "      <td>63</td>\n",
       "      <td>97</td>\n",
       "      <td>...</td>\n",
       "      <td>2</td>\n",
       "      <td>1</td>\n",
       "      <td>2</td>\n",
       "      <td>2</td>\n",
       "      <td>2</td>\n",
       "      <td>2</td>\n",
       "      <td>2</td>\n",
       "      <td>99</td>\n",
       "      <td>1</td>\n",
       "      <td>2</td>\n",
       "    </tr>\n",
       "    <tr>\n",
       "      <th>7</th>\n",
       "      <td>0ce1f5</td>\n",
       "      <td>1</td>\n",
       "      <td>1</td>\n",
       "      <td>21-05-2020</td>\n",
       "      <td>18-05-2020</td>\n",
       "      <td>0</td>\n",
       "      <td>97</td>\n",
       "      <td>2</td>\n",
       "      <td>56</td>\n",
       "      <td>2</td>\n",
       "      <td>...</td>\n",
       "      <td>2</td>\n",
       "      <td>1</td>\n",
       "      <td>2</td>\n",
       "      <td>2</td>\n",
       "      <td>2</td>\n",
       "      <td>1</td>\n",
       "      <td>1</td>\n",
       "      <td>1</td>\n",
       "      <td>1</td>\n",
       "      <td>97</td>\n",
       "    </tr>\n",
       "    <tr>\n",
       "      <th>8</th>\n",
       "      <td>12b57a</td>\n",
       "      <td>1</td>\n",
       "      <td>1</td>\n",
       "      <td>22-04-2020</td>\n",
       "      <td>18-04-2020</td>\n",
       "      <td>0</td>\n",
       "      <td>97</td>\n",
       "      <td>2</td>\n",
       "      <td>41</td>\n",
       "      <td>2</td>\n",
       "      <td>...</td>\n",
       "      <td>2</td>\n",
       "      <td>2</td>\n",
       "      <td>2</td>\n",
       "      <td>2</td>\n",
       "      <td>2</td>\n",
       "      <td>2</td>\n",
       "      <td>2</td>\n",
       "      <td>99</td>\n",
       "      <td>1</td>\n",
       "      <td>97</td>\n",
       "    </tr>\n",
       "    <tr>\n",
       "      <th>9</th>\n",
       "      <td>006b91</td>\n",
       "      <td>1</td>\n",
       "      <td>2</td>\n",
       "      <td>23-04-2020</td>\n",
       "      <td>18-04-2020</td>\n",
       "      <td>0</td>\n",
       "      <td>1</td>\n",
       "      <td>1</td>\n",
       "      <td>39</td>\n",
       "      <td>2</td>\n",
       "      <td>...</td>\n",
       "      <td>2</td>\n",
       "      <td>2</td>\n",
       "      <td>2</td>\n",
       "      <td>2</td>\n",
       "      <td>1</td>\n",
       "      <td>2</td>\n",
       "      <td>2</td>\n",
       "      <td>99</td>\n",
       "      <td>1</td>\n",
       "      <td>2</td>\n",
       "    </tr>\n",
       "  </tbody>\n",
       "</table>\n",
       "<p>10 rows × 23 columns</p>\n",
       "</div>"
      ],
      "text/plain": [
       "         id  sex  patient_type  entry_date date_symptoms date_died  intubed  \\\n",
       "0    16169f    2             1  04-05-2020    02-05-2020         0       97   \n",
       "1    1009bf    2             1  19-03-2020    17-03-2020         0       97   \n",
       "2    167386    1             2  06-04-2020    01-04-2020         0        2   \n",
       "3    0b5948    2             2  17-04-2020    10-04-2020         0        2   \n",
       "4    0d01b5    1             2  13-04-2020    13-04-2020         1        2   \n",
       "5    1beec8    2             2  16-04-2020    16-04-2020         1        2   \n",
       "6  1.75E+56    2             2  22-04-2020    13-04-2020         0        2   \n",
       "7    0ce1f5    1             1  21-05-2020    18-05-2020         0       97   \n",
       "8    12b57a    1             1  22-04-2020    18-04-2020         0       97   \n",
       "9    006b91    1             2  23-04-2020    18-04-2020         0        1   \n",
       "\n",
       "   pneumonia  age  pregnancy  ...  inmsupr  hypertension  other_disease  \\\n",
       "0          2   27         97  ...        2             2              2   \n",
       "1          2   24         97  ...        2             2              2   \n",
       "2          2   54          2  ...        2             2              2   \n",
       "3          1   30         97  ...        2             2              2   \n",
       "4          2   60          2  ...        2             1              2   \n",
       "5          1   47         97  ...        2             2              2   \n",
       "6          2   63         97  ...        2             1              2   \n",
       "7          2   56          2  ...        2             1              2   \n",
       "8          2   41          2  ...        2             2              2   \n",
       "9          1   39          2  ...        2             2              2   \n",
       "\n",
       "   cardiovascular  obesity  renal_chronic  tobacco  contact_other_covid  \\\n",
       "0               2        2              2        2                    2   \n",
       "1               2        2              2        2                   99   \n",
       "2               2        1              2        2                   99   \n",
       "3               2        2              2        2                   99   \n",
       "4               1        2              2        2                   99   \n",
       "5               2        2              2        2                   99   \n",
       "6               2        2              2        2                   99   \n",
       "7               2        2              1        1                    1   \n",
       "8               2        2              2        2                   99   \n",
       "9               2        1              2        2                   99   \n",
       "\n",
       "   covid_res  icu  \n",
       "0          1   97  \n",
       "1          1   97  \n",
       "2          1    2  \n",
       "3          1    2  \n",
       "4          1    2  \n",
       "5          1    1  \n",
       "6          1    2  \n",
       "7          1   97  \n",
       "8          1   97  \n",
       "9          1    2  \n",
       "\n",
       "[10 rows x 23 columns]"
      ]
     },
     "execution_count": 86,
     "metadata": {},
     "output_type": "execute_result"
    }
   ],
   "source": [
    "df.head(10)"
   ]
  },
  {
   "cell_type": "code",
   "execution_count": 87,
   "id": "d33c9979-f682-4f42-8621-024261de8d32",
   "metadata": {},
   "outputs": [
    {
     "data": {
      "text/plain": [
       "0    465571\n",
       "1     34121\n",
       "Name: date_died, dtype: int64"
      ]
     },
     "execution_count": 87,
     "metadata": {},
     "output_type": "execute_result"
    }
   ],
   "source": [
    "df['date_died'].value_counts()"
   ]
  },
  {
   "cell_type": "code",
   "execution_count": 88,
   "id": "5def1907-16eb-4355-9898-12478fa2410c",
   "metadata": {},
   "outputs": [],
   "source": [
    "df[\"date_died\"] = df[\"date_died\"].astype(\"int64\")"
   ]
  },
  {
   "cell_type": "markdown",
   "id": "8bdb2474-50bd-4105-9407-93e5bbc39803",
   "metadata": {},
   "source": [
    "# Visualization"
   ]
  },
  {
   "cell_type": "code",
   "execution_count": 89,
   "id": "8719c63a-ca54-420f-b41a-731069169bfd",
   "metadata": {},
   "outputs": [
    {
     "data": {
      "image/png": "[encoded data removed]",
      "text/plain": [
       "<Figure size 432x288 with 1 Axes>"
      ]
     },
     "metadata": {
      "needs_background": "light"
     },
     "output_type": "display_data"
    }
   ],
   "source": [
    "# Plotting Age vs Survival rate of Patients Admitted to the hospital\n",
    "fig, ax = plt.subplots()\n",
    "\n",
    "sns.kdeplot(df[df[\"date_died\"]==0][\"age\"], shade=True, color=\"blue\", label=\"Survived\", ax=ax)\n",
    "sns.kdeplot(df[df[\"date_died\"]==1][\"age\"], shade=True, color=\"green\", label=\"Did not Survive\", ax=ax)\n",
    "\n",
    "ax.legend()\n",
    "ax.set_xlabel(\"Covid Result\")\n",
    "ax.set_ylabel(\"Density\")\n",
    "\n",
    "fig.suptitle(\"Age vs. Survival for Patients\");\n",
    "plt.savefig('output.png', dpi=300, bbox_inches='tight')"
   ]
  },
  {
   "cell_type": "markdown",
   "id": "9b001e27-2168-4406-8251-8e61b28d069e",
   "metadata": {},
   "source": [
    "# We see from the above graph that Age cannot be considered a factor for Covid deaths"
   ]
  },
  {
   "cell_type": "code",
   "execution_count": 90,
   "id": "878b3e00-855f-4038-a06a-8a643a627514",
   "metadata": {},
   "outputs": [
    {
     "data": {
      "text/plain": [
       "[Text(0, 0, 'positive'), Text(1, 0, 'not positive')]"
      ]
     },
     "execution_count": 90,
     "metadata": {},
     "output_type": "execute_result"
    },
    {
     "data": {
      "image/png": "[encoded data removed]",
      "text/plain": [
       "<Figure size 432x288 with 1 Axes>"
      ]
     },
     "metadata": {
      "needs_background": "light"
     },
     "output_type": "display_data"
    }
   ],
   "source": [
    "# Plotting Patient Count Died versus Covid Result\n",
    "ax = sns.barplot(x=\"covid_res\", y=\"date_died\", data=df)\n",
    "ax.set_xlabel(\"Covid Result\")\n",
    "ax.set_ylabel(\"Patient Count Died\")\n",
    "ax.set_xticklabels([\"positive\", \"not positive\"])"
   ]
  },
  {
   "cell_type": "code",
   "execution_count": 91,
   "id": "43b6db92",
   "metadata": {},
   "outputs": [
    {
     "data": {
      "text/html": [
       "<div>\n",
       "<style scoped>\n",
       "    .dataframe tbody tr th:only-of-type {\n",
       "        vertical-align: middle;\n",
       "    }\n",
       "\n",
       "    .dataframe tbody tr th {\n",
       "        vertical-align: top;\n",
       "    }\n",
       "\n",
       "    .dataframe thead th {\n",
       "        text-align: right;\n",
       "    }\n",
       "</style>\n",
       "<table border=\"1\" class=\"dataframe\">\n",
       "  <thead>\n",
       "    <tr style=\"text-align: right;\">\n",
       "      <th></th>\n",
       "      <th>id</th>\n",
       "      <th>sex</th>\n",
       "      <th>patient_type</th>\n",
       "      <th>entry_date</th>\n",
       "      <th>date_symptoms</th>\n",
       "      <th>date_died</th>\n",
       "      <th>intubed</th>\n",
       "      <th>pneumonia</th>\n",
       "      <th>age</th>\n",
       "      <th>pregnancy</th>\n",
       "      <th>...</th>\n",
       "      <th>inmsupr</th>\n",
       "      <th>hypertension</th>\n",
       "      <th>other_disease</th>\n",
       "      <th>cardiovascular</th>\n",
       "      <th>obesity</th>\n",
       "      <th>renal_chronic</th>\n",
       "      <th>tobacco</th>\n",
       "      <th>contact_other_covid</th>\n",
       "      <th>covid_res</th>\n",
       "      <th>icu</th>\n",
       "    </tr>\n",
       "  </thead>\n",
       "  <tbody>\n",
       "    <tr>\n",
       "      <th>4</th>\n",
       "      <td>0d01b5</td>\n",
       "      <td>1</td>\n",
       "      <td>2</td>\n",
       "      <td>13-04-2020</td>\n",
       "      <td>13-04-2020</td>\n",
       "      <td>1</td>\n",
       "      <td>2</td>\n",
       "      <td>2</td>\n",
       "      <td>60</td>\n",
       "      <td>2</td>\n",
       "      <td>...</td>\n",
       "      <td>2</td>\n",
       "      <td>1</td>\n",
       "      <td>2</td>\n",
       "      <td>1</td>\n",
       "      <td>2</td>\n",
       "      <td>2</td>\n",
       "      <td>2</td>\n",
       "      <td>99</td>\n",
       "      <td>1</td>\n",
       "      <td>2</td>\n",
       "    </tr>\n",
       "    <tr>\n",
       "      <th>5</th>\n",
       "      <td>1beec8</td>\n",
       "      <td>2</td>\n",
       "      <td>2</td>\n",
       "      <td>16-04-2020</td>\n",
       "      <td>16-04-2020</td>\n",
       "      <td>1</td>\n",
       "      <td>2</td>\n",
       "      <td>1</td>\n",
       "      <td>47</td>\n",
       "      <td>97</td>\n",
       "      <td>...</td>\n",
       "      <td>2</td>\n",
       "      <td>2</td>\n",
       "      <td>2</td>\n",
       "      <td>2</td>\n",
       "      <td>2</td>\n",
       "      <td>2</td>\n",
       "      <td>2</td>\n",
       "      <td>99</td>\n",
       "      <td>1</td>\n",
       "      <td>1</td>\n",
       "    </tr>\n",
       "    <tr>\n",
       "      <th>24</th>\n",
       "      <td>008b81</td>\n",
       "      <td>1</td>\n",
       "      <td>1</td>\n",
       "      <td>15-05-2020</td>\n",
       "      <td>06-05-2020</td>\n",
       "      <td>1</td>\n",
       "      <td>97</td>\n",
       "      <td>2</td>\n",
       "      <td>61</td>\n",
       "      <td>2</td>\n",
       "      <td>...</td>\n",
       "      <td>2</td>\n",
       "      <td>1</td>\n",
       "      <td>2</td>\n",
       "      <td>2</td>\n",
       "      <td>2</td>\n",
       "      <td>2</td>\n",
       "      <td>2</td>\n",
       "      <td>1</td>\n",
       "      <td>1</td>\n",
       "      <td>97</td>\n",
       "    </tr>\n",
       "    <tr>\n",
       "      <th>36</th>\n",
       "      <td>17394f</td>\n",
       "      <td>2</td>\n",
       "      <td>2</td>\n",
       "      <td>27-04-2020</td>\n",
       "      <td>27-04-2020</td>\n",
       "      <td>1</td>\n",
       "      <td>2</td>\n",
       "      <td>1</td>\n",
       "      <td>77</td>\n",
       "      <td>97</td>\n",
       "      <td>...</td>\n",
       "      <td>2</td>\n",
       "      <td>1</td>\n",
       "      <td>2</td>\n",
       "      <td>2</td>\n",
       "      <td>2</td>\n",
       "      <td>2</td>\n",
       "      <td>2</td>\n",
       "      <td>99</td>\n",
       "      <td>1</td>\n",
       "      <td>2</td>\n",
       "    </tr>\n",
       "    <tr>\n",
       "      <th>41</th>\n",
       "      <td>006ddc</td>\n",
       "      <td>1</td>\n",
       "      <td>2</td>\n",
       "      <td>26-04-2020</td>\n",
       "      <td>23-04-2020</td>\n",
       "      <td>1</td>\n",
       "      <td>2</td>\n",
       "      <td>1</td>\n",
       "      <td>53</td>\n",
       "      <td>2</td>\n",
       "      <td>...</td>\n",
       "      <td>2</td>\n",
       "      <td>2</td>\n",
       "      <td>2</td>\n",
       "      <td>2</td>\n",
       "      <td>1</td>\n",
       "      <td>2</td>\n",
       "      <td>2</td>\n",
       "      <td>99</td>\n",
       "      <td>1</td>\n",
       "      <td>2</td>\n",
       "    </tr>\n",
       "    <tr>\n",
       "      <th>...</th>\n",
       "      <td>...</td>\n",
       "      <td>...</td>\n",
       "      <td>...</td>\n",
       "      <td>...</td>\n",
       "      <td>...</td>\n",
       "      <td>...</td>\n",
       "      <td>...</td>\n",
       "      <td>...</td>\n",
       "      <td>...</td>\n",
       "      <td>...</td>\n",
       "      <td>...</td>\n",
       "      <td>...</td>\n",
       "      <td>...</td>\n",
       "      <td>...</td>\n",
       "      <td>...</td>\n",
       "      <td>...</td>\n",
       "      <td>...</td>\n",
       "      <td>...</td>\n",
       "      <td>...</td>\n",
       "      <td>...</td>\n",
       "      <td>...</td>\n",
       "    </tr>\n",
       "    <tr>\n",
       "      <th>499540</th>\n",
       "      <td>16d102</td>\n",
       "      <td>2</td>\n",
       "      <td>2</td>\n",
       "      <td>17-06-2020</td>\n",
       "      <td>17-06-2020</td>\n",
       "      <td>1</td>\n",
       "      <td>2</td>\n",
       "      <td>1</td>\n",
       "      <td>73</td>\n",
       "      <td>97</td>\n",
       "      <td>...</td>\n",
       "      <td>2</td>\n",
       "      <td>2</td>\n",
       "      <td>2</td>\n",
       "      <td>1</td>\n",
       "      <td>2</td>\n",
       "      <td>1</td>\n",
       "      <td>1</td>\n",
       "      <td>99</td>\n",
       "      <td>2</td>\n",
       "      <td>2</td>\n",
       "    </tr>\n",
       "    <tr>\n",
       "      <th>499574</th>\n",
       "      <td>105f35</td>\n",
       "      <td>2</td>\n",
       "      <td>2</td>\n",
       "      <td>28-03-2020</td>\n",
       "      <td>27-03-2020</td>\n",
       "      <td>1</td>\n",
       "      <td>2</td>\n",
       "      <td>1</td>\n",
       "      <td>55</td>\n",
       "      <td>97</td>\n",
       "      <td>...</td>\n",
       "      <td>1</td>\n",
       "      <td>2</td>\n",
       "      <td>1</td>\n",
       "      <td>2</td>\n",
       "      <td>2</td>\n",
       "      <td>2</td>\n",
       "      <td>1</td>\n",
       "      <td>99</td>\n",
       "      <td>2</td>\n",
       "      <td>2</td>\n",
       "    </tr>\n",
       "    <tr>\n",
       "      <th>499582</th>\n",
       "      <td>02e521</td>\n",
       "      <td>2</td>\n",
       "      <td>2</td>\n",
       "      <td>29-04-2020</td>\n",
       "      <td>27-04-2020</td>\n",
       "      <td>1</td>\n",
       "      <td>2</td>\n",
       "      <td>1</td>\n",
       "      <td>37</td>\n",
       "      <td>97</td>\n",
       "      <td>...</td>\n",
       "      <td>2</td>\n",
       "      <td>1</td>\n",
       "      <td>2</td>\n",
       "      <td>2</td>\n",
       "      <td>2</td>\n",
       "      <td>2</td>\n",
       "      <td>2</td>\n",
       "      <td>2</td>\n",
       "      <td>2</td>\n",
       "      <td>2</td>\n",
       "    </tr>\n",
       "    <tr>\n",
       "      <th>499606</th>\n",
       "      <td>16ca9a</td>\n",
       "      <td>2</td>\n",
       "      <td>2</td>\n",
       "      <td>31-03-2020</td>\n",
       "      <td>30-03-2020</td>\n",
       "      <td>1</td>\n",
       "      <td>2</td>\n",
       "      <td>1</td>\n",
       "      <td>84</td>\n",
       "      <td>97</td>\n",
       "      <td>...</td>\n",
       "      <td>2</td>\n",
       "      <td>2</td>\n",
       "      <td>1</td>\n",
       "      <td>1</td>\n",
       "      <td>2</td>\n",
       "      <td>1</td>\n",
       "      <td>2</td>\n",
       "      <td>99</td>\n",
       "      <td>2</td>\n",
       "      <td>2</td>\n",
       "    </tr>\n",
       "    <tr>\n",
       "      <th>499613</th>\n",
       "      <td>1159a4</td>\n",
       "      <td>1</td>\n",
       "      <td>2</td>\n",
       "      <td>01-04-2020</td>\n",
       "      <td>01-04-2020</td>\n",
       "      <td>1</td>\n",
       "      <td>1</td>\n",
       "      <td>2</td>\n",
       "      <td>23</td>\n",
       "      <td>2</td>\n",
       "      <td>...</td>\n",
       "      <td>2</td>\n",
       "      <td>2</td>\n",
       "      <td>1</td>\n",
       "      <td>2</td>\n",
       "      <td>2</td>\n",
       "      <td>2</td>\n",
       "      <td>1</td>\n",
       "      <td>2</td>\n",
       "      <td>2</td>\n",
       "      <td>2</td>\n",
       "    </tr>\n",
       "  </tbody>\n",
       "</table>\n",
       "<p>34121 rows × 23 columns</p>\n",
       "</div>"
      ],
      "text/plain": [
       "            id  sex  patient_type  entry_date date_symptoms  date_died  \\\n",
       "4       0d01b5    1             2  13-04-2020    13-04-2020          1   \n",
       "5       1beec8    2             2  16-04-2020    16-04-2020          1   \n",
       "24      008b81    1             1  15-05-2020    06-05-2020          1   \n",
       "36      17394f    2             2  27-04-2020    27-04-2020          1   \n",
       "41      006ddc    1             2  26-04-2020    23-04-2020          1   \n",
       "...        ...  ...           ...         ...           ...        ...   \n",
       "499540  16d102    2             2  17-06-2020    17-06-2020          1   \n",
       "499574  105f35    2             2  28-03-2020    27-03-2020          1   \n",
       "499582  02e521    2             2  29-04-2020    27-04-2020          1   \n",
       "499606  16ca9a    2             2  31-03-2020    30-03-2020          1   \n",
       "499613  1159a4    1             2  01-04-2020    01-04-2020          1   \n",
       "\n",
       "        intubed  pneumonia  age  pregnancy  ...  inmsupr  hypertension  \\\n",
       "4             2          2   60          2  ...        2             1   \n",
       "5             2          1   47         97  ...        2             2   \n",
       "24           97          2   61          2  ...        2             1   \n",
       "36            2          1   77         97  ...        2             1   \n",
       "41            2          1   53          2  ...        2             2   \n",
       "...         ...        ...  ...        ...  ...      ...           ...   \n",
       "499540        2          1   73         97  ...        2             2   \n",
       "499574        2          1   55         97  ...        1             2   \n",
       "499582        2          1   37         97  ...        2             1   \n",
       "499606        2          1   84         97  ...        2             2   \n",
       "499613        1          2   23          2  ...        2             2   \n",
       "\n",
       "        other_disease  cardiovascular  obesity  renal_chronic  tobacco  \\\n",
       "4                   2               1        2              2        2   \n",
       "5                   2               2        2              2        2   \n",
       "24                  2               2        2              2        2   \n",
       "36                  2               2        2              2        2   \n",
       "41                  2               2        1              2        2   \n",
       "...               ...             ...      ...            ...      ...   \n",
       "499540              2               1        2              1        1   \n",
       "499574              1               2        2              2        1   \n",
       "499582              2               2        2              2        2   \n",
       "499606              1               1        2              1        2   \n",
       "499613              1               2        2              2        1   \n",
       "\n",
       "        contact_other_covid  covid_res  icu  \n",
       "4                        99          1    2  \n",
       "5                        99          1    1  \n",
       "24                        1          1   97  \n",
       "36                       99          1    2  \n",
       "41                       99          1    2  \n",
       "...                     ...        ...  ...  \n",
       "499540                   99          2    2  \n",
       "499574                   99          2    2  \n",
       "499582                    2          2    2  \n",
       "499606                   99          2    2  \n",
       "499613                    2          2    2  \n",
       "\n",
       "[34121 rows x 23 columns]"
      ]
     },
     "execution_count": 91,
     "metadata": {},
     "output_type": "execute_result"
    }
   ],
   "source": [
    "# To get data only for patients that died to build visuals -- Anshu\n",
    "filter_df_death = df[df['date_died'] == 1] \n",
    "filter_df_death"
   ]
  },
  {
   "cell_type": "code",
   "execution_count": 92,
   "id": "506a2e44",
   "metadata": {},
   "outputs": [
    {
     "data": {
      "text/plain": [
       "[Text(0, 0, 'positive'), Text(1, 0, 'not positive')]"
      ]
     },
     "execution_count": 92,
     "metadata": {},
     "output_type": "execute_result"
    },
    {
     "data": {
      "image/png": "[encoded data removed]",
      "text/plain": [
       "<Figure size 432x288 with 1 Axes>"
      ]
     },
     "metadata": {
      "needs_background": "light"
     },
     "output_type": "display_data"
    }
   ],
   "source": [
    "# Plotting Patient Count Died versus Covid Result and showing the count on top of bars -- Anshu\n",
    "groupedvalues = filter_df_death.groupby('covid_res').sum().reset_index()\n",
    "groupedvalues.head()\n",
    "\n",
    "gx =sns.barplot(x='covid_res',y='date_died',data=groupedvalues)\n",
    "\n",
    "for index, row in groupedvalues.iterrows():\n",
    "    gx.text(row.name,row.date_died, round(row.date_died,2), color='black', ha=\"center\")\n",
    "    \n",
    "gx.set_xlabel(\"Covid Result\")\n",
    "gx.set_ylabel(\"Patient Count Died\")\n",
    "gx.set_xticklabels([\"positive\", \"not positive\"])"
   ]
  },
  {
   "cell_type": "code",
   "execution_count": 93,
   "id": "7578cad9",
   "metadata": {},
   "outputs": [
    {
     "data": {
      "text/plain": [
       "[Text(0, 0, 'Yes'), Text(1, 0, 'No'), Text(2, 0, 'NA')]"
      ]
     },
     "execution_count": 93,
     "metadata": {},
     "output_type": "execute_result"
    },
    {
     "data": {
      "image/png": "[encoded data removed]",
      "text/plain": [
       "<Figure size 432x288 with 1 Axes>"
      ]
     },
     "metadata": {
      "needs_background": "light"
     },
     "output_type": "display_data"
    }
   ],
   "source": [
    "# Plotting Patient Count Died based on diabetes result and showing the count on top of bars -- Anshu\n",
    "groupedvalues = filter_df_death.groupby('diabetes').sum().reset_index()\n",
    "groupedvalues.head()\n",
    "\n",
    "gxd =sns.barplot(x='diabetes',y='date_died',data=groupedvalues)\n",
    "\n",
    "for index, row in groupedvalues.iterrows():\n",
    "    gxd.text(row.name,row.date_died, round(row.date_died,2), color='black', ha=\"center\")\n",
    "    \n",
    "gxd.set_xlabel(\"Diabetes\")\n",
    "gxd.set_ylabel(\"Patient Count Died\")\n",
    "gxd.set_xticklabels([\"Yes\", \"No\", \"NA\"])"
   ]
  },
  {
   "cell_type": "code",
   "execution_count": 94,
   "id": "c70ae5ac",
   "metadata": {},
   "outputs": [
    {
     "data": {
      "text/plain": [
       "[Text(0, 0, 'Yes'), Text(1, 0, 'No'), Text(2, 0, 'NA')]"
      ]
     },
     "execution_count": 94,
     "metadata": {},
     "output_type": "execute_result"
    },
    {
     "data": {
      "image/png": "[encoded data removed]",
      "text/plain": [
       "<Figure size 432x288 with 1 Axes>"
      ]
     },
     "metadata": {
      "needs_background": "light"
     },
     "output_type": "display_data"
    }
   ],
   "source": [
    "# Plotting Patient Count Died based on hypertension result and showing the count on top of bars -- Anshu\n",
    "groupedvalues = filter_df_death.groupby('hypertension').sum().reset_index()\n",
    "groupedvalues.head()\n",
    "\n",
    "gxd =sns.barplot(x='hypertension',y='date_died',data=groupedvalues)\n",
    "\n",
    "for index, row in groupedvalues.iterrows():\n",
    "    gxd.text(row.name,row.date_died, round(row.date_died,2), color='black', ha=\"center\")\n",
    "    \n",
    "gxd.set_xlabel(\"Hypertension\")\n",
    "gxd.set_ylabel(\"Patient Count Died\")\n",
    "gxd.set_xticklabels([\"Yes\", \"No\", \"NA\"])"
   ]
  },
  {
   "cell_type": "code",
   "execution_count": 95,
   "id": "d6817bbe",
   "metadata": {},
   "outputs": [
    {
     "data": {
      "text/plain": [
       "[Text(0, 0, 'Yes'),\n",
       " Text(1, 0, 'No'),\n",
       " Text(2, 0, 'NA'),\n",
       " Text(3, 0, 'Not Provided')]"
      ]
     },
     "execution_count": 95,
     "metadata": {},
     "output_type": "execute_result"
    },
    {
     "data": {
      "image/png": "[encoded data removed]",
      "text/plain": [
       "<Figure size 432x288 with 1 Axes>"
      ]
     },
     "metadata": {
      "needs_background": "light"
     },
     "output_type": "display_data"
    }
   ],
   "source": [
    "# Plotting Patient Count Died based on pregnancy result and showing the count on top of bars -- Anshu\n",
    "groupedvalues = filter_df_death.groupby('pregnancy').sum().reset_index()\n",
    "groupedvalues.head()\n",
    "\n",
    "gxd =sns.barplot(x='pregnancy',y='date_died',data=groupedvalues)\n",
    "\n",
    "for index, row in groupedvalues.iterrows():\n",
    "    gxd.text(row.name,row.date_died, round(row.date_died,2), color='black', ha=\"center\")\n",
    "    \n",
    "gxd.set_xlabel(\"Pregnancy\")\n",
    "gxd.set_ylabel(\"Patient Count Died\")\n",
    "gxd.set_xticklabels([\"Yes\", \"No\", \"NA\", \"Not Provided\"])"
   ]
  },
  {
   "cell_type": "code",
   "execution_count": 96,
   "id": "6f683a00",
   "metadata": {},
   "outputs": [
    {
     "data": {
      "text/plain": [
       "[Text(0, 0, 'Yes'), Text(1, 0, 'No'), Text(2, 0, 'Not Provided')]"
      ]
     },
     "execution_count": 96,
     "metadata": {},
     "output_type": "execute_result"
    },
    {
     "data": {
      "image/png": "[encoded data removed]",
      "text/plain": [
       "<Figure size 432x288 with 1 Axes>"
      ]
     },
     "metadata": {
      "needs_background": "light"
     },
     "output_type": "display_data"
    }
   ],
   "source": [
    "# Plotting Patient Count Died based on obesity and showing the count on top of bars -- Anshu\n",
    "groupedvalues = filter_df_death.groupby('obesity').sum().reset_index()\n",
    "groupedvalues.head()\n",
    "\n",
    "gxd =sns.barplot(x='obesity',y='date_died',data=groupedvalues)\n",
    "\n",
    "for index, row in groupedvalues.iterrows():\n",
    "    gxd.text(row.name,row.date_died, round(row.date_died,2), color='black', ha=\"center\")\n",
    "    \n",
    "gxd.set_xlabel(\"Obesity\")\n",
    "gxd.set_ylabel(\"Patient Count Died\")\n",
    "gxd.set_xticklabels([\"Yes\", \"No\", \"Not Provided\"])"
   ]
  },
  {
   "cell_type": "code",
   "execution_count": 97,
   "id": "052378d7",
   "metadata": {},
   "outputs": [
    {
     "data": {
      "text/plain": [
       "Text(0, 0.5, 'Patient Count Died')"
      ]
     },
     "execution_count": 97,
     "metadata": {},
     "output_type": "execute_result"
    },
    {
     "data": {
      "image/png": "[encoded data removed]",
      "text/plain": [
       "<Figure size 432x288 with 1 Axes>"
      ]
     },
     "metadata": {
      "needs_background": "light"
     },
     "output_type": "display_data"
    }
   ],
   "source": [
    "# Plotting Patient Count Died based on sex and showing the count on top of bars -- Anshu\n",
    "groupedvalues = filter_df_death.groupby('sex').sum().reset_index()\n",
    "groupedvalues.head()\n",
    "\n",
    "gxd =sns.barplot(x='sex',y='date_died',data=groupedvalues)\n",
    "\n",
    "for index, row in groupedvalues.iterrows():\n",
    "    gxd.text(row.name,row.date_died, round(row.date_died,2), color='black', ha=\"center\")\n",
    "    \n",
    "gxd.set_xlabel(\"Sex\")\n",
    "gxd.set_ylabel(\"Patient Count Died\")\n",
    "#gxd.set_xticklabels([\"Yes\", \"No\", \"Not Provided\"])"
   ]
  },
  {
   "cell_type": "code",
   "execution_count": null,
   "id": "51c3331e",
   "metadata": {},
   "outputs": [],
   "source": []
  },
  {
   "cell_type": "code",
   "execution_count": 98,
   "id": "f296a624",
   "metadata": {},
   "outputs": [
    {
     "data": {
      "text/html": [
       "<div>\n",
       "<style scoped>\n",
       "    .dataframe tbody tr th:only-of-type {\n",
       "        vertical-align: middle;\n",
       "    }\n",
       "\n",
       "    .dataframe tbody tr th {\n",
       "        vertical-align: top;\n",
       "    }\n",
       "\n",
       "    .dataframe thead th {\n",
       "        text-align: right;\n",
       "    }\n",
       "</style>\n",
       "<table border=\"1\" class=\"dataframe\">\n",
       "  <thead>\n",
       "    <tr style=\"text-align: right;\">\n",
       "      <th></th>\n",
       "      <th>pneumonia</th>\n",
       "      <th>pregnancy</th>\n",
       "      <th>diabetes</th>\n",
       "      <th>copd</th>\n",
       "      <th>asthma</th>\n",
       "      <th>inmsupr</th>\n",
       "      <th>hypertension</th>\n",
       "      <th>other_disease</th>\n",
       "      <th>cardiovascular</th>\n",
       "      <th>obesity</th>\n",
       "      <th>renal_chronic</th>\n",
       "      <th>tobacco</th>\n",
       "    </tr>\n",
       "  </thead>\n",
       "  <tbody>\n",
       "    <tr>\n",
       "      <th>4</th>\n",
       "      <td>2</td>\n",
       "      <td>2</td>\n",
       "      <td>1</td>\n",
       "      <td>2</td>\n",
       "      <td>2</td>\n",
       "      <td>2</td>\n",
       "      <td>1</td>\n",
       "      <td>2</td>\n",
       "      <td>1</td>\n",
       "      <td>2</td>\n",
       "      <td>2</td>\n",
       "      <td>2</td>\n",
       "    </tr>\n",
       "    <tr>\n",
       "      <th>5</th>\n",
       "      <td>1</td>\n",
       "      <td>97</td>\n",
       "      <td>1</td>\n",
       "      <td>2</td>\n",
       "      <td>2</td>\n",
       "      <td>2</td>\n",
       "      <td>2</td>\n",
       "      <td>2</td>\n",
       "      <td>2</td>\n",
       "      <td>2</td>\n",
       "      <td>2</td>\n",
       "      <td>2</td>\n",
       "    </tr>\n",
       "    <tr>\n",
       "      <th>24</th>\n",
       "      <td>2</td>\n",
       "      <td>2</td>\n",
       "      <td>2</td>\n",
       "      <td>2</td>\n",
       "      <td>2</td>\n",
       "      <td>2</td>\n",
       "      <td>1</td>\n",
       "      <td>2</td>\n",
       "      <td>2</td>\n",
       "      <td>2</td>\n",
       "      <td>2</td>\n",
       "      <td>2</td>\n",
       "    </tr>\n",
       "    <tr>\n",
       "      <th>36</th>\n",
       "      <td>1</td>\n",
       "      <td>97</td>\n",
       "      <td>2</td>\n",
       "      <td>2</td>\n",
       "      <td>2</td>\n",
       "      <td>2</td>\n",
       "      <td>1</td>\n",
       "      <td>2</td>\n",
       "      <td>2</td>\n",
       "      <td>2</td>\n",
       "      <td>2</td>\n",
       "      <td>2</td>\n",
       "    </tr>\n",
       "    <tr>\n",
       "      <th>41</th>\n",
       "      <td>1</td>\n",
       "      <td>2</td>\n",
       "      <td>1</td>\n",
       "      <td>2</td>\n",
       "      <td>2</td>\n",
       "      <td>2</td>\n",
       "      <td>2</td>\n",
       "      <td>2</td>\n",
       "      <td>2</td>\n",
       "      <td>1</td>\n",
       "      <td>2</td>\n",
       "      <td>2</td>\n",
       "    </tr>\n",
       "    <tr>\n",
       "      <th>...</th>\n",
       "      <td>...</td>\n",
       "      <td>...</td>\n",
       "      <td>...</td>\n",
       "      <td>...</td>\n",
       "      <td>...</td>\n",
       "      <td>...</td>\n",
       "      <td>...</td>\n",
       "      <td>...</td>\n",
       "      <td>...</td>\n",
       "      <td>...</td>\n",
       "      <td>...</td>\n",
       "      <td>...</td>\n",
       "    </tr>\n",
       "    <tr>\n",
       "      <th>499540</th>\n",
       "      <td>1</td>\n",
       "      <td>97</td>\n",
       "      <td>2</td>\n",
       "      <td>2</td>\n",
       "      <td>2</td>\n",
       "      <td>2</td>\n",
       "      <td>2</td>\n",
       "      <td>2</td>\n",
       "      <td>1</td>\n",
       "      <td>2</td>\n",
       "      <td>1</td>\n",
       "      <td>1</td>\n",
       "    </tr>\n",
       "    <tr>\n",
       "      <th>499574</th>\n",
       "      <td>1</td>\n",
       "      <td>97</td>\n",
       "      <td>1</td>\n",
       "      <td>2</td>\n",
       "      <td>2</td>\n",
       "      <td>1</td>\n",
       "      <td>2</td>\n",
       "      <td>1</td>\n",
       "      <td>2</td>\n",
       "      <td>2</td>\n",
       "      <td>2</td>\n",
       "      <td>1</td>\n",
       "    </tr>\n",
       "    <tr>\n",
       "      <th>499582</th>\n",
       "      <td>1</td>\n",
       "      <td>97</td>\n",
       "      <td>2</td>\n",
       "      <td>2</td>\n",
       "      <td>2</td>\n",
       "      <td>2</td>\n",
       "      <td>1</td>\n",
       "      <td>2</td>\n",
       "      <td>2</td>\n",
       "      <td>2</td>\n",
       "      <td>2</td>\n",
       "      <td>2</td>\n",
       "    </tr>\n",
       "    <tr>\n",
       "      <th>499606</th>\n",
       "      <td>1</td>\n",
       "      <td>97</td>\n",
       "      <td>2</td>\n",
       "      <td>2</td>\n",
       "      <td>2</td>\n",
       "      <td>2</td>\n",
       "      <td>2</td>\n",
       "      <td>1</td>\n",
       "      <td>1</td>\n",
       "      <td>2</td>\n",
       "      <td>1</td>\n",
       "      <td>2</td>\n",
       "    </tr>\n",
       "    <tr>\n",
       "      <th>499613</th>\n",
       "      <td>2</td>\n",
       "      <td>2</td>\n",
       "      <td>2</td>\n",
       "      <td>2</td>\n",
       "      <td>2</td>\n",
       "      <td>2</td>\n",
       "      <td>2</td>\n",
       "      <td>1</td>\n",
       "      <td>2</td>\n",
       "      <td>2</td>\n",
       "      <td>2</td>\n",
       "      <td>1</td>\n",
       "    </tr>\n",
       "  </tbody>\n",
       "</table>\n",
       "<p>34121 rows × 12 columns</p>\n",
       "</div>"
      ],
      "text/plain": [
       "        pneumonia  pregnancy  diabetes  copd  asthma  inmsupr  hypertension  \\\n",
       "4               2          2         1     2       2        2             1   \n",
       "5               1         97         1     2       2        2             2   \n",
       "24              2          2         2     2       2        2             1   \n",
       "36              1         97         2     2       2        2             1   \n",
       "41              1          2         1     2       2        2             2   \n",
       "...           ...        ...       ...   ...     ...      ...           ...   \n",
       "499540          1         97         2     2       2        2             2   \n",
       "499574          1         97         1     2       2        1             2   \n",
       "499582          1         97         2     2       2        2             1   \n",
       "499606          1         97         2     2       2        2             2   \n",
       "499613          2          2         2     2       2        2             2   \n",
       "\n",
       "        other_disease  cardiovascular  obesity  renal_chronic  tobacco  \n",
       "4                   2               1        2              2        2  \n",
       "5                   2               2        2              2        2  \n",
       "24                  2               2        2              2        2  \n",
       "36                  2               2        2              2        2  \n",
       "41                  2               2        1              2        2  \n",
       "...               ...             ...      ...            ...      ...  \n",
       "499540              2               1        2              1        1  \n",
       "499574              1               2        2              2        1  \n",
       "499582              2               2        2              2        2  \n",
       "499606              1               1        2              1        2  \n",
       "499613              1               2        2              2        1  \n",
       "\n",
       "[34121 rows x 12 columns]"
      ]
     },
     "execution_count": 98,
     "metadata": {},
     "output_type": "execute_result"
    }
   ],
   "source": [
    "# Create new dataframe with only pre-existing conditions for patients who died\n",
    "pre_existing_df_died = filter_df_death.drop(columns= ['sex', 'icu', 'covid_res', 'contact_other_covid', 'intubed', 'patient_type'])\n",
    "pre_existing_df_died = pre_existing_df_died[pre_existing_df_died['date_died'] == 1] \n",
    "pre_existing_df_died = pre_existing_df_died.drop(columns= ['id','entry_date','date_symptoms','date_died','age'])\n",
    "pre_existing_df_died"
   ]
  },
  {
   "cell_type": "code",
   "execution_count": 99,
   "id": "cf765f73",
   "metadata": {},
   "outputs": [
    {
     "data": {
      "image/png": "[encoded data removed]",
      "text/plain": [
       "<Figure size 216x216 with 1 Axes>"
      ]
     },
     "metadata": {},
     "output_type": "display_data"
    }
   ],
   "source": [
    "# Plotting precentage of pre-exsiting conditions in the dataset where patient actually died -- Anshu\n",
    "pre_existing_count_died = []\n",
    "pre_existing_labels_died = []\n",
    "for col in pre_existing_df_died.columns:\n",
    "    pre_existing_count_died.append(len(pre_existing_df_died[pre_existing_df_died[col] == 1].index))\n",
    "    pre_existing_labels_died.append(col)\n",
    "fig, ax = plt.subplots(figsize=(3, 3))\n",
    "ax.pie(pre_existing_count_died, labels=pre_existing_labels_died, autopct='%.2f%%', \n",
    "        pctdistance = 0.8,\n",
    "        explode=[0.2]*12, \n",
    "        radius = 2.4)\n",
    "#ax.set_title('Pre-existing Conditions')\n",
    "plt.show()"
   ]
  },
  {
   "cell_type": "code",
   "execution_count": 100,
   "id": "045fea6f-3585-4b09-9944-de58415b5367",
   "metadata": {},
   "outputs": [
    {
     "data": {
      "text/plain": [
       "[Text(0, 0, 'positive'), Text(1, 0, 'not positive')]"
      ]
     },
     "execution_count": 100,
     "metadata": {},
     "output_type": "execute_result"
    },
    {
     "data": {
      "image/png": "[encoded data removed]",
      "text/plain": [
       "<Figure size 432x288 with 1 Axes>"
      ]
     },
     "metadata": {
      "needs_background": "light"
     },
     "output_type": "display_data"
    }
   ],
   "source": [
    "# Plotting Male/Female Patient Count Died vs Covid Result\"\n",
    "ax = sns.barplot(x=\"covid_res\", y=\"date_died\", hue=\"sex\", palette={1:\"yellow\", 2:\"orange\"}, data=df)\n",
    "ax.set_xlabel(\"Covid Result\")\n",
    "ax.set_ylabel(\"Patient Died\")\n",
    "ax.set_xticklabels([\"positive\", \"not positive\"])"
   ]
  },
  {
   "cell_type": "code",
   "execution_count": 101,
   "id": "2443bfb3-f830-4214-8b35-7768482e09ec",
   "metadata": {},
   "outputs": [
    {
     "data": {
      "text/html": [
       "<div>\n",
       "<style scoped>\n",
       "    .dataframe tbody tr th:only-of-type {\n",
       "        vertical-align: middle;\n",
       "    }\n",
       "\n",
       "    .dataframe tbody tr th {\n",
       "        vertical-align: top;\n",
       "    }\n",
       "\n",
       "    .dataframe thead th {\n",
       "        text-align: right;\n",
       "    }\n",
       "</style>\n",
       "<table border=\"1\" class=\"dataframe\">\n",
       "  <thead>\n",
       "    <tr style=\"text-align: right;\">\n",
       "      <th></th>\n",
       "      <th>pneumonia</th>\n",
       "      <th>pregnancy</th>\n",
       "      <th>diabetes</th>\n",
       "      <th>copd</th>\n",
       "      <th>asthma</th>\n",
       "      <th>inmsupr</th>\n",
       "      <th>hypertension</th>\n",
       "      <th>other_disease</th>\n",
       "      <th>cardiovascular</th>\n",
       "      <th>obesity</th>\n",
       "      <th>renal_chronic</th>\n",
       "      <th>tobacco</th>\n",
       "    </tr>\n",
       "  </thead>\n",
       "  <tbody>\n",
       "    <tr>\n",
       "      <th>0</th>\n",
       "      <td>2</td>\n",
       "      <td>97</td>\n",
       "      <td>2</td>\n",
       "      <td>2</td>\n",
       "      <td>2</td>\n",
       "      <td>2</td>\n",
       "      <td>2</td>\n",
       "      <td>2</td>\n",
       "      <td>2</td>\n",
       "      <td>2</td>\n",
       "      <td>2</td>\n",
       "      <td>2</td>\n",
       "    </tr>\n",
       "    <tr>\n",
       "      <th>1</th>\n",
       "      <td>2</td>\n",
       "      <td>97</td>\n",
       "      <td>2</td>\n",
       "      <td>2</td>\n",
       "      <td>2</td>\n",
       "      <td>2</td>\n",
       "      <td>2</td>\n",
       "      <td>2</td>\n",
       "      <td>2</td>\n",
       "      <td>2</td>\n",
       "      <td>2</td>\n",
       "      <td>2</td>\n",
       "    </tr>\n",
       "    <tr>\n",
       "      <th>2</th>\n",
       "      <td>2</td>\n",
       "      <td>2</td>\n",
       "      <td>2</td>\n",
       "      <td>2</td>\n",
       "      <td>2</td>\n",
       "      <td>2</td>\n",
       "      <td>2</td>\n",
       "      <td>2</td>\n",
       "      <td>2</td>\n",
       "      <td>1</td>\n",
       "      <td>2</td>\n",
       "      <td>2</td>\n",
       "    </tr>\n",
       "    <tr>\n",
       "      <th>3</th>\n",
       "      <td>1</td>\n",
       "      <td>97</td>\n",
       "      <td>2</td>\n",
       "      <td>2</td>\n",
       "      <td>2</td>\n",
       "      <td>2</td>\n",
       "      <td>2</td>\n",
       "      <td>2</td>\n",
       "      <td>2</td>\n",
       "      <td>2</td>\n",
       "      <td>2</td>\n",
       "      <td>2</td>\n",
       "    </tr>\n",
       "    <tr>\n",
       "      <th>4</th>\n",
       "      <td>2</td>\n",
       "      <td>2</td>\n",
       "      <td>1</td>\n",
       "      <td>2</td>\n",
       "      <td>2</td>\n",
       "      <td>2</td>\n",
       "      <td>1</td>\n",
       "      <td>2</td>\n",
       "      <td>1</td>\n",
       "      <td>2</td>\n",
       "      <td>2</td>\n",
       "      <td>2</td>\n",
       "    </tr>\n",
       "    <tr>\n",
       "      <th>...</th>\n",
       "      <td>...</td>\n",
       "      <td>...</td>\n",
       "      <td>...</td>\n",
       "      <td>...</td>\n",
       "      <td>...</td>\n",
       "      <td>...</td>\n",
       "      <td>...</td>\n",
       "      <td>...</td>\n",
       "      <td>...</td>\n",
       "      <td>...</td>\n",
       "      <td>...</td>\n",
       "      <td>...</td>\n",
       "    </tr>\n",
       "    <tr>\n",
       "      <th>566597</th>\n",
       "      <td>2</td>\n",
       "      <td>97</td>\n",
       "      <td>1</td>\n",
       "      <td>2</td>\n",
       "      <td>2</td>\n",
       "      <td>2</td>\n",
       "      <td>2</td>\n",
       "      <td>2</td>\n",
       "      <td>2</td>\n",
       "      <td>2</td>\n",
       "      <td>2</td>\n",
       "      <td>2</td>\n",
       "    </tr>\n",
       "    <tr>\n",
       "      <th>566598</th>\n",
       "      <td>2</td>\n",
       "      <td>2</td>\n",
       "      <td>2</td>\n",
       "      <td>2</td>\n",
       "      <td>2</td>\n",
       "      <td>2</td>\n",
       "      <td>2</td>\n",
       "      <td>2</td>\n",
       "      <td>2</td>\n",
       "      <td>2</td>\n",
       "      <td>2</td>\n",
       "      <td>2</td>\n",
       "    </tr>\n",
       "    <tr>\n",
       "      <th>566599</th>\n",
       "      <td>1</td>\n",
       "      <td>2</td>\n",
       "      <td>2</td>\n",
       "      <td>2</td>\n",
       "      <td>2</td>\n",
       "      <td>2</td>\n",
       "      <td>2</td>\n",
       "      <td>2</td>\n",
       "      <td>2</td>\n",
       "      <td>1</td>\n",
       "      <td>2</td>\n",
       "      <td>2</td>\n",
       "    </tr>\n",
       "    <tr>\n",
       "      <th>566600</th>\n",
       "      <td>1</td>\n",
       "      <td>2</td>\n",
       "      <td>2</td>\n",
       "      <td>2</td>\n",
       "      <td>2</td>\n",
       "      <td>2</td>\n",
       "      <td>2</td>\n",
       "      <td>2</td>\n",
       "      <td>2</td>\n",
       "      <td>2</td>\n",
       "      <td>2</td>\n",
       "      <td>2</td>\n",
       "    </tr>\n",
       "    <tr>\n",
       "      <th>566601</th>\n",
       "      <td>1</td>\n",
       "      <td>97</td>\n",
       "      <td>1</td>\n",
       "      <td>2</td>\n",
       "      <td>2</td>\n",
       "      <td>2</td>\n",
       "      <td>1</td>\n",
       "      <td>2</td>\n",
       "      <td>2</td>\n",
       "      <td>1</td>\n",
       "      <td>2</td>\n",
       "      <td>2</td>\n",
       "    </tr>\n",
       "  </tbody>\n",
       "</table>\n",
       "<p>566602 rows × 12 columns</p>\n",
       "</div>"
      ],
      "text/plain": [
       "        pneumonia  pregnancy  diabetes  copd  asthma  inmsupr  hypertension  \\\n",
       "0               2         97         2     2       2        2             2   \n",
       "1               2         97         2     2       2        2             2   \n",
       "2               2          2         2     2       2        2             2   \n",
       "3               1         97         2     2       2        2             2   \n",
       "4               2          2         1     2       2        2             1   \n",
       "...           ...        ...       ...   ...     ...      ...           ...   \n",
       "566597          2         97         1     2       2        2             2   \n",
       "566598          2          2         2     2       2        2             2   \n",
       "566599          1          2         2     2       2        2             2   \n",
       "566600          1          2         2     2       2        2             2   \n",
       "566601          1         97         1     2       2        2             1   \n",
       "\n",
       "        other_disease  cardiovascular  obesity  renal_chronic  tobacco  \n",
       "0                   2               2        2              2        2  \n",
       "1                   2               2        2              2        2  \n",
       "2                   2               2        1              2        2  \n",
       "3                   2               2        2              2        2  \n",
       "4                   2               1        2              2        2  \n",
       "...               ...             ...      ...            ...      ...  \n",
       "566597              2               2        2              2        2  \n",
       "566598              2               2        2              2        2  \n",
       "566599              2               2        1              2        2  \n",
       "566600              2               2        2              2        2  \n",
       "566601              2               2        1              2        2  \n",
       "\n",
       "[566602 rows x 12 columns]"
      ]
     },
     "execution_count": 101,
     "metadata": {},
     "output_type": "execute_result"
    }
   ],
   "source": [
    "# Create new dataframe with only pre-existing conditions\n",
    "pre_existing_df = subset.drop(columns= ['sex', 'icu', 'covid_res', 'contact_other_covid', 'intubed', 'patient_type'])\n",
    "pre_existing_df"
   ]
  },
  {
   "cell_type": "code",
   "execution_count": 102,
   "id": "45cc6329-3cc0-4288-bfa3-808f23c972b5",
   "metadata": {},
   "outputs": [],
   "source": [
    "# len(df[df.sex == 1].index)\n",
    "pre_existing_count = []\n",
    "pre_existing_labels = []\n",
    "for col in pre_existing_df.columns:\n",
    "    pre_existing_count.append(len(pre_existing_df[pre_existing_df[col] == 1].index))\n",
    "    pre_existing_labels.append(col)"
   ]
  },
  {
   "cell_type": "code",
   "execution_count": 103,
   "id": "8f30c26f-64e2-495a-ad95-efed5fe6b728",
   "metadata": {},
   "outputs": [
    {
     "data": {
      "image/png": "[encoded data removed]",
      "text/plain": [
       "<Figure size 216x216 with 1 Axes>"
      ]
     },
     "metadata": {},
     "output_type": "display_data"
    }
   ],
   "source": [
    "# Plotting precentage of pre-exsiting conditions in the dataset\n",
    "fig, ax = plt.subplots(figsize=(3, 3))\n",
    "ax.pie(pre_existing_count, labels=pre_existing_labels, autopct='%.2f%%', \n",
    "        pctdistance = 0.8,\n",
    "        explode=[0.2]*12, \n",
    "        radius = 2.4)\n",
    "#ax.set_title('Pre-existing Conditions')\n",
    "plt.show()"
   ]
  },
  {
   "cell_type": "code",
   "execution_count": null,
   "id": "e466d58a",
   "metadata": {},
   "outputs": [],
   "source": []
  },
  {
   "cell_type": "markdown",
   "id": "824cee81-9c16-49a6-8d43-04e225aa78b8",
   "metadata": {},
   "source": [
    "# Plotting Patient who were in contact with other covid patients versus Covid Result\n",
    "# Top three pre-existing conditions have the count of death"
   ]
  },
  {
   "cell_type": "code",
   "execution_count": 104,
   "id": "c944f7ed",
   "metadata": {},
   "outputs": [
    {
     "data": {
      "text/plain": [
       "Text(0.5, 0, 'Diabetes')"
      ]
     },
     "execution_count": 104,
     "metadata": {},
     "output_type": "execute_result"
    },
    {
     "data": {
      "image/png": "[encoded data removed]",
      "text/plain": [
       "<Figure size 432x288 with 1 Axes>"
      ]
     },
     "metadata": {
      "needs_background": "light"
     },
     "output_type": "display_data"
    }
   ],
   "source": [
    "# Plotting Patient Count Died versus pre-existing condition for diabetes and covid result -- Anshu\n",
    "ax = sns.countplot(x=\"diabetes\", hue=\"covid_res\", data=filter_df_death)\n",
    "ax.set_xticklabels([\"Yes\", \"No\", \"NA\"])\n",
    "ax.set_xlabel(\"Diabetes\")"
   ]
  },
  {
   "cell_type": "code",
   "execution_count": 106,
   "id": "a5f03022",
   "metadata": {},
   "outputs": [
    {
     "data": {
      "image/png": "[encoded data removed]",
      "text/plain": [
       "<Figure size 256.475x288 with 1 Axes>"
      ]
     },
     "metadata": {
      "needs_background": "light"
     },
     "output_type": "display_data"
    }
   ],
   "source": [
    "# Sample use of catplot -- Anshu\n",
    "ct = sns.catplot(x=\"diabetes\", hue=\"covid_res\",data=filter_df_death, kind=\"count\", height=4, aspect=.7);"
   ]
  },
  {
   "cell_type": "markdown",
   "id": "b5929f28-c5cc-4623-8ead-81474394e061",
   "metadata": {},
   "source": [
    "# Machine Learning"
   ]
  },
  {
   "cell_type": "code",
   "execution_count": 38,
   "id": "af5b35ba-af67-4669-9663-22e7168c9d15",
   "metadata": {},
   "outputs": [],
   "source": [
    "df = df.sample(n=10000)"
   ]
  },
  {
   "cell_type": "code",
   "execution_count": 107,
   "id": "bee86229-0466-4679-9a7b-eac3f2cdda79",
   "metadata": {},
   "outputs": [],
   "source": [
    "# Create our features\n",
    "# X = df.drop(columns= ['date_died', 'entry_date', 'date_symptoms', 'id', 'age'])\n",
    "X = df.drop(columns= ['covid_res', 'date_died', 'entry_date', 'date_symptoms', 'id', 'age', 'patient_type', \n",
    "                      'intubed', 'icu', 'pneumonia','other_disease','sex'])\n",
    "\n",
    "# Create our target\n",
    "y = df['date_died']\n",
    "#y = df['covid_res']"
   ]
  },
  {
   "cell_type": "code",
   "execution_count": 108,
   "id": "ab6f0881-d14f-4bbb-9f46-aec4dfe80ad0",
   "metadata": {},
   "outputs": [
    {
     "name": "stdout",
     "output_type": "stream",
     "text": [
      "(449722, 11) (49970, 11) (449722,) (49970,)\n"
     ]
    }
   ],
   "source": [
    "from sklearn.model_selection import train_test_split\n",
    "#X_train, X_test, y_train, y_test = train_test_split(X, y, test_size=0.33, random_state=0, stratify=y)\n",
    "X_train, X_test, y_train, y_test = train_test_split(X, y,train_size=0.9, random_state=123, stratify=y)\n",
    "print(X_train.shape, X_test.shape, y_train.shape, y_test.shape)"
   ]
  },
  {
   "cell_type": "code",
   "execution_count": 109,
   "id": "223fe8ce-456b-4882-a014-c3542cb2529f",
   "metadata": {},
   "outputs": [
    {
     "data": {
      "text/plain": [
       "pregnancy              int64\n",
       "diabetes               int64\n",
       "copd                   int64\n",
       "asthma                 int64\n",
       "inmsupr                int64\n",
       "hypertension           int64\n",
       "cardiovascular         int64\n",
       "obesity                int64\n",
       "renal_chronic          int64\n",
       "tobacco                int64\n",
       "contact_other_covid    int64\n",
       "dtype: object"
      ]
     },
     "execution_count": 109,
     "metadata": {},
     "output_type": "execute_result"
    }
   ],
   "source": [
    "X.dtypes"
   ]
  },
  {
   "cell_type": "code",
   "execution_count": 110,
   "id": "c3064172",
   "metadata": {},
   "outputs": [
    {
     "data": {
      "text/plain": [
       "array([ 0,  1,  2,  3,  4,  5,  6,  7,  8,  9, 10])"
      ]
     },
     "execution_count": 110,
     "metadata": {},
     "output_type": "execute_result"
    }
   ],
   "source": [
    "categorical_features_indices = np.where(X.dtypes != np.float64)[0]\n",
    "categorical_features_indices"
   ]
  },
  {
   "cell_type": "code",
   "execution_count": 111,
   "id": "a6d65cbd-7b2c-462d-aa63-daac6524f0fa",
   "metadata": {},
   "outputs": [
    {
     "data": {
      "text/plain": [
       "0    465571\n",
       "1     34121\n",
       "Name: date_died, dtype: int64"
      ]
     },
     "execution_count": 111,
     "metadata": {},
     "output_type": "execute_result"
    }
   ],
   "source": [
    "y.value_counts()"
   ]
  },
  {
   "cell_type": "markdown",
   "id": "68836e40-4fc0-48c4-8874-9d3129ceca86",
   "metadata": {},
   "source": [
    "# Cat Boost Classifier"
   ]
  },
  {
   "cell_type": "code",
   "execution_count": 112,
   "id": "c2b0cfc7-529f-4dd3-ac90-d6354e64998b",
   "metadata": {},
   "outputs": [
    {
     "data": {
      "text/plain": [
       "pregnancy              int64\n",
       "diabetes               int64\n",
       "copd                   int64\n",
       "asthma                 int64\n",
       "inmsupr                int64\n",
       "hypertension           int64\n",
       "cardiovascular         int64\n",
       "obesity                int64\n",
       "renal_chronic          int64\n",
       "tobacco                int64\n",
       "contact_other_covid    int64\n",
       "dtype: object"
      ]
     },
     "execution_count": 112,
     "metadata": {},
     "output_type": "execute_result"
    }
   ],
   "source": [
    "X.dtypes"
   ]
  },
  {
   "cell_type": "code",
   "execution_count": 113,
   "id": "f9fce8d0",
   "metadata": {},
   "outputs": [
    {
     "name": "stdout",
     "output_type": "stream",
     "text": [
      "Names of categorical columns :  []\n",
      "Location of categorical columns :  []\n"
     ]
    }
   ],
   "source": [
    "#List of categorical columns\n",
    "categoricalcolumns = X.select_dtypes(include=[\"object\"]).columns.tolist()\n",
    "print(\"Names of categorical columns : \", categoricalcolumns)\n",
    "#Get location of categorical columns\n",
    "cat_features = [X.columns.get_loc(col) for col in categoricalcolumns]\n",
    "print(\"Location of categorical columns : \",cat_features)"
   ]
  },
  {
   "cell_type": "code",
   "execution_count": 114,
   "id": "390144d9",
   "metadata": {},
   "outputs": [
    {
     "data": {
      "application/vnd.jupyter.widget-view+json": {
       "model_id": "cd8d984af2d94df29fa4cff9e5b11fab",
       "version_major": 2,
       "version_minor": 0
      },
      "text/plain": [
       "MetricVisualizer(layout=Layout(align_self='stretch', height='500px'))"
      ]
     },
     "metadata": {},
     "output_type": "display_data"
    },
    {
     "name": "stdout",
     "output_type": "stream",
     "text": [
      "0:\tlearn: 0.2512780\ttest: 0.2512562\tbest: 0.2512562 (0)\ttotal: 81.7ms\tremaining: 4s\n",
      "1:\tlearn: 0.2496916\ttest: 0.2496398\tbest: 0.2496398 (1)\ttotal: 174ms\tremaining: 4.17s\n",
      "2:\tlearn: 0.2484077\ttest: 0.2483160\tbest: 0.2483160 (2)\ttotal: 211ms\tremaining: 3.3s\n",
      "3:\tlearn: 0.2473637\ttest: 0.2472375\tbest: 0.2472375 (3)\ttotal: 248ms\tremaining: 2.85s\n",
      "4:\tlearn: 0.2465121\ttest: 0.2463572\tbest: 0.2463572 (4)\ttotal: 283ms\tremaining: 2.55s\n",
      "5:\tlearn: 0.2458227\ttest: 0.2456420\tbest: 0.2456420 (5)\ttotal: 332ms\tremaining: 2.44s\n",
      "6:\tlearn: 0.2448863\ttest: 0.2446674\tbest: 0.2446674 (6)\ttotal: 428ms\tremaining: 2.63s\n",
      "7:\tlearn: 0.2441164\ttest: 0.2438765\tbest: 0.2438765 (7)\ttotal: 496ms\tremaining: 2.6s\n",
      "8:\tlearn: 0.2434927\ttest: 0.2432343\tbest: 0.2432343 (8)\ttotal: 548ms\tremaining: 2.5s\n",
      "9:\tlearn: 0.2429851\ttest: 0.2427125\tbest: 0.2427125 (9)\ttotal: 611ms\tremaining: 2.44s\n",
      "10:\tlearn: 0.2425782\ttest: 0.2422889\tbest: 0.2422889 (10)\ttotal: 663ms\tremaining: 2.35s\n",
      "11:\tlearn: 0.2422415\ttest: 0.2419457\tbest: 0.2419457 (11)\ttotal: 760ms\tremaining: 2.4s\n",
      "12:\tlearn: 0.2419737\ttest: 0.2416669\tbest: 0.2416669 (12)\ttotal: 805ms\tremaining: 2.29s\n",
      "13:\tlearn: 0.2417561\ttest: 0.2414407\tbest: 0.2414407 (13)\ttotal: 868ms\tremaining: 2.23s\n",
      "14:\tlearn: 0.2413979\ttest: 0.2410663\tbest: 0.2410663 (14)\ttotal: 929ms\tremaining: 2.17s\n",
      "15:\tlearn: 0.2410991\ttest: 0.2407638\tbest: 0.2407638 (15)\ttotal: 996ms\tremaining: 2.12s\n",
      "16:\tlearn: 0.2408700\ttest: 0.2405294\tbest: 0.2405294 (16)\ttotal: 1.05s\tremaining: 2.03s\n",
      "17:\tlearn: 0.2406742\ttest: 0.2403283\tbest: 0.2403283 (17)\ttotal: 1.12s\tremaining: 1.98s\n",
      "18:\tlearn: 0.2404438\ttest: 0.2401063\tbest: 0.2401063 (18)\ttotal: 1.19s\tremaining: 1.95s\n",
      "19:\tlearn: 0.2402409\ttest: 0.2399194\tbest: 0.2399194 (19)\ttotal: 1.28s\tremaining: 1.92s\n",
      "20:\tlearn: 0.2400861\ttest: 0.2397812\tbest: 0.2397812 (20)\ttotal: 1.36s\tremaining: 1.88s\n",
      "21:\tlearn: 0.2399491\ttest: 0.2396597\tbest: 0.2396597 (21)\ttotal: 1.45s\tremaining: 1.84s\n",
      "22:\tlearn: 0.2398500\ttest: 0.2395691\tbest: 0.2395691 (22)\ttotal: 1.51s\tremaining: 1.77s\n",
      "23:\tlearn: 0.2396757\ttest: 0.2394273\tbest: 0.2394273 (23)\ttotal: 1.62s\tremaining: 1.75s\n",
      "24:\tlearn: 0.2395415\ttest: 0.2393208\tbest: 0.2393208 (24)\ttotal: 1.69s\tremaining: 1.69s\n",
      "25:\tlearn: 0.2394119\ttest: 0.2392302\tbest: 0.2392302 (25)\ttotal: 1.78s\tremaining: 1.65s\n",
      "26:\tlearn: 0.2393011\ttest: 0.2391566\tbest: 0.2391566 (26)\ttotal: 1.87s\tremaining: 1.59s\n",
      "27:\tlearn: 0.2392276\ttest: 0.2391030\tbest: 0.2391030 (27)\ttotal: 1.97s\tremaining: 1.54s\n",
      "28:\tlearn: 0.2391842\ttest: 0.2390735\tbest: 0.2390735 (28)\ttotal: 2.02s\tremaining: 1.46s\n",
      "29:\tlearn: 0.2390966\ttest: 0.2390340\tbest: 0.2390340 (29)\ttotal: 2.11s\tremaining: 1.41s\n",
      "30:\tlearn: 0.2390144\ttest: 0.2390007\tbest: 0.2390007 (30)\ttotal: 2.24s\tremaining: 1.37s\n",
      "31:\tlearn: 0.2389627\ttest: 0.2389785\tbest: 0.2389785 (31)\ttotal: 2.3s\tremaining: 1.29s\n",
      "32:\tlearn: 0.2389000\ttest: 0.2389571\tbest: 0.2389571 (32)\ttotal: 2.38s\tremaining: 1.23s\n",
      "33:\tlearn: 0.2388448\ttest: 0.2389397\tbest: 0.2389397 (33)\ttotal: 2.47s\tremaining: 1.16s\n",
      "34:\tlearn: 0.2388232\ttest: 0.2389340\tbest: 0.2389340 (34)\ttotal: 2.51s\tremaining: 1.08s\n",
      "35:\tlearn: 0.2387573\ttest: 0.2389056\tbest: 0.2389056 (35)\ttotal: 2.61s\tremaining: 1.01s\n",
      "36:\tlearn: 0.2386991\ttest: 0.2388850\tbest: 0.2388850 (36)\ttotal: 2.73s\tremaining: 958ms\n",
      "37:\tlearn: 0.2386066\ttest: 0.2388349\tbest: 0.2388349 (37)\ttotal: 2.82s\tremaining: 891ms\n",
      "38:\tlearn: 0.2385209\ttest: 0.2388005\tbest: 0.2388005 (38)\ttotal: 2.9s\tremaining: 818ms\n",
      "39:\tlearn: 0.2384468\ttest: 0.2387757\tbest: 0.2387757 (39)\ttotal: 2.99s\tremaining: 748ms\n",
      "40:\tlearn: 0.2383866\ttest: 0.2387528\tbest: 0.2387528 (40)\ttotal: 3.07s\tremaining: 674ms\n",
      "41:\tlearn: 0.2383038\ttest: 0.2387223\tbest: 0.2387223 (41)\ttotal: 3.16s\tremaining: 602ms\n",
      "42:\tlearn: 0.2382346\ttest: 0.2387022\tbest: 0.2387022 (42)\ttotal: 3.27s\tremaining: 532ms\n",
      "43:\tlearn: 0.2381684\ttest: 0.2386835\tbest: 0.2386835 (43)\ttotal: 3.38s\tremaining: 461ms\n",
      "44:\tlearn: 0.2381185\ttest: 0.2386658\tbest: 0.2386658 (44)\ttotal: 3.48s\tremaining: 387ms\n",
      "45:\tlearn: 0.2380449\ttest: 0.2386350\tbest: 0.2386350 (45)\ttotal: 3.58s\tremaining: 311ms\n",
      "46:\tlearn: 0.2380335\ttest: 0.2386241\tbest: 0.2386241 (46)\ttotal: 3.62s\tremaining: 231ms\n",
      "47:\tlearn: 0.2379740\ttest: 0.2386039\tbest: 0.2386039 (47)\ttotal: 3.7s\tremaining: 154ms\n",
      "48:\tlearn: 0.2379207\ttest: 0.2385969\tbest: 0.2385969 (48)\ttotal: 3.79s\tremaining: 77.4ms\n",
      "49:\tlearn: 0.2378820\ttest: 0.2385851\tbest: 0.2385851 (49)\ttotal: 3.87s\tremaining: 0us\n",
      "\n",
      "bestTest = 0.2385851289\n",
      "bestIteration = 49\n",
      "\n"
     ]
    },
    {
     "data": {
      "text/plain": [
       "<catboost.core.CatBoostRegressor at 0x7faa1a55b250>"
      ]
     },
     "execution_count": 114,
     "metadata": {},
     "output_type": "execute_result"
    }
   ],
   "source": [
    "reg_model=CatBoostRegressor(iterations=50, depth=10, learning_rate=0.1, loss_function='RMSE')\n",
    "reg_model.fit(X_train, y_train,cat_features=categorical_features_indices,eval_set=(X_test, y_test),plot=True)"
   ]
  },
  {
   "cell_type": "code",
   "execution_count": 115,
   "id": "daad33a0",
   "metadata": {},
   "outputs": [
    {
     "data": {
      "text/plain": [
       "(array([ 0,  1,  2,  3,  4,  5,  6,  7,  8,  9, 10]),\n",
       " [Text(0, 0, 'diabetes'),\n",
       "  Text(1, 0, 'contact_other_covid'),\n",
       "  Text(2, 0, 'hypertension'),\n",
       "  Text(3, 0, 'pregnancy'),\n",
       "  Text(4, 0, 'copd'),\n",
       "  Text(5, 0, 'renal_chronic'),\n",
       "  Text(6, 0, 'obesity'),\n",
       "  Text(7, 0, 'cardiovascular'),\n",
       "  Text(8, 0, 'inmsupr'),\n",
       "  Text(9, 0, 'asthma'),\n",
       "  Text(10, 0, 'tobacco')])"
      ]
     },
     "execution_count": 115,
     "metadata": {},
     "output_type": "execute_result"
    },
    {
     "data": {
      "image/png": "[encoded data removed]",
      "text/plain": [
       "<Figure size 864x432 with 1 Axes>"
      ]
     },
     "metadata": {
      "needs_background": "light"
     },
     "output_type": "display_data"
    }
   ],
   "source": [
    "# Create a dataframe of feature importance \n",
    "df_feature_importance = pd.DataFrame(reg_model.get_feature_importance(prettified=True))\n",
    "#plotting feature importance\n",
    "plt.figure(figsize=(12, 6));\n",
    "feature_plot= sns.barplot(x=\"Feature Id\", y=\"Importances\", data=df_feature_importance,palette=\"cool\");\n",
    "plt.title('Features importance');\n",
    "plt.xticks(rotation=90)"
   ]
  },
  {
   "cell_type": "code",
   "execution_count": 116,
   "id": "3c9415e3-c38b-42bf-aa49-8e4a069025dd",
   "metadata": {},
   "outputs": [],
   "source": [
    "from catboost import CatBoostClassifier"
   ]
  },
  {
   "cell_type": "code",
   "execution_count": 117,
   "id": "9cecb175-cd18-40ae-9f06-06361d05ed9f",
   "metadata": {},
   "outputs": [
    {
     "data": {
      "text/plain": [
       "array([ 0,  1,  2,  3,  4,  5,  6,  7,  8,  9, 10])"
      ]
     },
     "execution_count": 117,
     "metadata": {},
     "output_type": "execute_result"
    }
   ],
   "source": [
    "cat_features_index = np.where(X.dtypes != float)[0]\n",
    "cat_features_index"
   ]
  },
  {
   "cell_type": "code",
   "execution_count": 118,
   "id": "46b233f2-95c5-4656-99b4-8ddf95aaf764",
   "metadata": {},
   "outputs": [
    {
     "data": {
      "application/vnd.jupyter.widget-view+json": {
       "model_id": "847a88d72f844e3ea7d4bd73e07d3592",
       "version_major": 2,
       "version_minor": 0
      },
      "text/plain": [
       "MetricVisualizer(layout=Layout(align_self='stretch', height='500px'))"
      ]
     },
     "metadata": {},
     "output_type": "display_data"
    },
    {
     "name": "stdout",
     "output_type": "stream",
     "text": [
      "Learning rate set to 0.390109\n",
      "0:\tlearn: 0.4547624\ttest: 0.4547535\tbest: 0.4547535 (0)\ttotal: 67.2ms\tremaining: 6.65s\n",
      "10:\tlearn: 0.2109463\ttest: 0.2106752\tbest: 0.2106752 (10)\ttotal: 552ms\tremaining: 4.47s\n",
      "20:\tlearn: 0.2052799\ttest: 0.2060773\tbest: 0.2060773 (20)\ttotal: 1.22s\tremaining: 4.59s\n",
      "30:\tlearn: 0.2049208\ttest: 0.2058906\tbest: 0.2058906 (30)\ttotal: 1.83s\tremaining: 4.08s\n",
      "40:\tlearn: 0.2047363\ttest: 0.2057823\tbest: 0.2057823 (40)\ttotal: 2.44s\tremaining: 3.52s\n",
      "50:\tlearn: 0.2046648\ttest: 0.2057817\tbest: 0.2057717 (41)\ttotal: 3.04s\tremaining: 2.92s\n",
      "60:\tlearn: 0.2046379\ttest: 0.2057691\tbest: 0.2057689 (59)\ttotal: 3.67s\tremaining: 2.35s\n",
      "70:\tlearn: 0.2045712\ttest: 0.2057589\tbest: 0.2057589 (70)\ttotal: 4.26s\tremaining: 1.74s\n",
      "80:\tlearn: 0.2044985\ttest: 0.2057659\tbest: 0.2057496 (74)\ttotal: 4.89s\tremaining: 1.15s\n",
      "90:\tlearn: 0.2044537\ttest: 0.2057356\tbest: 0.2057322 (89)\ttotal: 5.5s\tremaining: 544ms\n",
      "99:\tlearn: 0.2044385\ttest: 0.2057329\tbest: 0.2057322 (89)\ttotal: 6.08s\tremaining: 0us\n",
      "\n",
      "bestTest = 0.2057322183\n",
      "bestIteration = 89\n",
      "\n",
      "Shrink model to first 90 iterations.\n"
     ]
    },
    {
     "data": {
      "text/plain": [
       "<catboost.core.CatBoostClassifier at 0x7fa9fbb72950>"
      ]
     },
     "execution_count": 118,
     "metadata": {},
     "output_type": "execute_result"
    }
   ],
   "source": [
    "# cat_model = CatBoostClassifier(custom_loss=['Accuracy'],random_seed=42)\n",
    "cat_model = CatBoostClassifier(iterations=100, verbose=10)\n",
    "\n",
    "\n",
    "## Set the metric for evaluation -- original code\n",
    "# cat_model = CatBoostClassifier(eval_metric='Accuracy', use_best_model=True,  random_seed=42) \n",
    "\n",
    "cat_model.fit(X_train, y_train, cat_features=cat_features_index, eval_set=(X_test, y_test), plot=True)\n",
    "\n",
    "# model.fit(X_train, y_train,cat_features=categorical_features_indices,eval_set=(X_test, y_test),plot=True)"
   ]
  },
  {
   "cell_type": "code",
   "execution_count": 119,
   "id": "dd2d5ffb",
   "metadata": {},
   "outputs": [
    {
     "name": "stdout",
     "output_type": "stream",
     "text": [
      "[[0.85365228 0.14634772]\n",
      " [0.98959622 0.01040378]\n",
      " [0.97858089 0.02141911]\n",
      " ...\n",
      " [0.97858089 0.02141911]\n",
      " [0.99224542 0.00775458]\n",
      " [0.97858089 0.02141911]]\n"
     ]
    }
   ],
   "source": [
    "print(cat_model.predict_proba(X_test))"
   ]
  },
  {
   "cell_type": "code",
   "execution_count": 120,
   "id": "cd067bff",
   "metadata": {},
   "outputs": [
    {
     "name": "stdout",
     "output_type": "stream",
     "text": [
      "[0 0 0 ... 0 0 0]\n"
     ]
    }
   ],
   "source": [
    "print(cat_model.predict(X_test))"
   ]
  },
  {
   "cell_type": "code",
   "execution_count": 121,
   "id": "e9b3aa67",
   "metadata": {},
   "outputs": [
    {
     "name": "stdout",
     "output_type": "stream",
     "text": [
      "\n",
      "Test  Accuracy : 0.93\n",
      "Train Accuracy : 0.93\n"
     ]
    }
   ],
   "source": [
    "test_preds = cat_model.predict(X_test)\n",
    "train_preds = cat_model.predict(X_train)\n",
    "\n",
    "print(\"\\nTest  Accuracy : %.2f\"%cat_model.score(X_test, y_test))\n",
    "print(\"Train Accuracy : %.2f\"%cat_model.score(X_train, y_train))"
   ]
  },
  {
   "cell_type": "code",
   "execution_count": 122,
   "id": "d616c891-50d4-4d9d-8353-190bd1715d6a",
   "metadata": {},
   "outputs": [
    {
     "name": "stdout",
     "output_type": "stream",
     "text": [
      "the test accuracy is :0.931719\n"
     ]
    }
   ],
   "source": [
    "from catboost import cv\n",
    "from sklearn.metrics import accuracy_score\n",
    "\n",
    "print('the test accuracy is :{:.6f}'.format(accuracy_score(y_test, cat_model.predict(X_test))))"
   ]
  },
  {
   "cell_type": "code",
   "execution_count": 123,
   "id": "ed9993da",
   "metadata": {},
   "outputs": [
    {
     "data": {
      "text/plain": [
       "(array([ 0,  1,  2,  3,  4,  5,  6,  7,  8,  9, 10]),\n",
       " [Text(0, 0, 'contact_other_covid'),\n",
       "  Text(1, 0, 'hypertension'),\n",
       "  Text(2, 0, 'diabetes'),\n",
       "  Text(3, 0, 'pregnancy'),\n",
       "  Text(4, 0, 'obesity'),\n",
       "  Text(5, 0, 'copd'),\n",
       "  Text(6, 0, 'renal_chronic'),\n",
       "  Text(7, 0, 'cardiovascular'),\n",
       "  Text(8, 0, 'inmsupr'),\n",
       "  Text(9, 0, 'asthma'),\n",
       "  Text(10, 0, 'tobacco')])"
      ]
     },
     "execution_count": 123,
     "metadata": {},
     "output_type": "execute_result"
    },
    {
     "data": {
      "image/png": "[encoded data removed]",
      "text/plain": [
       "<Figure size 864x432 with 1 Axes>"
      ]
     },
     "metadata": {
      "needs_background": "light"
     },
     "output_type": "display_data"
    }
   ],
   "source": [
    "# Create a dataframe of feature importance \n",
    "df_feature_importance = pd.DataFrame(cat_model.get_feature_importance(prettified=True))\n",
    "#plotting feature importance\n",
    "plt.figure(figsize=(12, 6));\n",
    "feature_plot= sns.barplot(x=\"Feature Id\", y=\"Importances\", data=df_feature_importance,palette=\"cool\");\n",
    "plt.title('Features importance');\n",
    "plt.xticks(rotation=90)"
   ]
  },
  {
   "cell_type": "code",
   "execution_count": 124,
   "id": "57fcd73d",
   "metadata": {},
   "outputs": [
    {
     "data": {
      "application/vnd.jupyter.widget-view+json": {
       "model_id": "57343e8f70b5449b880e5f572e2d7608",
       "version_major": 2,
       "version_minor": 0
      },
      "text/plain": [
       "MetricVisualizer(layout=Layout(align_self='stretch', height='500px'))"
      ]
     },
     "metadata": {},
     "output_type": "display_data"
    },
    {
     "name": "stdout",
     "output_type": "stream",
     "text": [
      "0:\tlearn: 0.4072414\ttest: 0.4073602\tbest: 0.4073602 (0)\ttotal: 77.5ms\tremaining: 7.67s\n",
      "1:\tlearn: 0.3082735\ttest: 0.3083662\tbest: 0.3083662 (1)\ttotal: 161ms\tremaining: 7.89s\n",
      "2:\tlearn: 0.2656080\ttest: 0.2656417\tbest: 0.2656417 (2)\ttotal: 206ms\tremaining: 6.67s\n",
      "3:\tlearn: 0.2470113\ttest: 0.2469785\tbest: 0.2469785 (3)\ttotal: 238ms\tremaining: 5.7s\n",
      "4:\tlearn: 0.2313212\ttest: 0.2314578\tbest: 0.2314578 (4)\ttotal: 296ms\tremaining: 5.62s\n",
      "5:\tlearn: 0.2194610\ttest: 0.2193998\tbest: 0.2193998 (5)\ttotal: 363ms\tremaining: 5.69s\n",
      "6:\tlearn: 0.2153818\ttest: 0.2152022\tbest: 0.2152022 (6)\ttotal: 406ms\tremaining: 5.39s\n",
      "7:\tlearn: 0.2111798\ttest: 0.2110424\tbest: 0.2110424 (7)\ttotal: 469ms\tremaining: 5.39s\n",
      "8:\tlearn: 0.2093385\ttest: 0.2093178\tbest: 0.2093178 (8)\ttotal: 536ms\tremaining: 5.42s\n",
      "9:\tlearn: 0.2077981\ttest: 0.2080781\tbest: 0.2080781 (9)\ttotal: 605ms\tremaining: 5.44s\n",
      "10:\tlearn: 0.2070215\ttest: 0.2076062\tbest: 0.2076062 (10)\ttotal: 667ms\tremaining: 5.39s\n",
      "11:\tlearn: 0.2065554\ttest: 0.2072340\tbest: 0.2072340 (11)\ttotal: 731ms\tremaining: 5.36s\n",
      "12:\tlearn: 0.2061723\ttest: 0.2069293\tbest: 0.2069293 (12)\ttotal: 806ms\tremaining: 5.4s\n",
      "13:\tlearn: 0.2055892\ttest: 0.2064691\tbest: 0.2064691 (13)\ttotal: 870ms\tremaining: 5.34s\n",
      "14:\tlearn: 0.2052008\ttest: 0.2061670\tbest: 0.2061670 (14)\ttotal: 948ms\tremaining: 5.37s\n",
      "15:\tlearn: 0.2050500\ttest: 0.2060512\tbest: 0.2060512 (15)\ttotal: 1.02s\tremaining: 5.36s\n",
      "16:\tlearn: 0.2049280\ttest: 0.2060003\tbest: 0.2060003 (16)\ttotal: 1.1s\tremaining: 5.36s\n",
      "17:\tlearn: 0.2048759\ttest: 0.2059705\tbest: 0.2059705 (17)\ttotal: 1.17s\tremaining: 5.33s\n",
      "18:\tlearn: 0.2048048\ttest: 0.2059096\tbest: 0.2059096 (18)\ttotal: 1.25s\tremaining: 5.31s\n",
      "19:\tlearn: 0.2047826\ttest: 0.2058672\tbest: 0.2058672 (19)\ttotal: 1.29s\tremaining: 5.15s\n",
      "20:\tlearn: 0.2047352\ttest: 0.2058440\tbest: 0.2058440 (20)\ttotal: 1.35s\tremaining: 5.09s\n",
      "21:\tlearn: 0.2047283\ttest: 0.2058372\tbest: 0.2058372 (21)\ttotal: 1.4s\tremaining: 4.95s\n",
      "22:\tlearn: 0.2047108\ttest: 0.2058410\tbest: 0.2058372 (21)\ttotal: 1.46s\tremaining: 4.89s\n",
      "23:\tlearn: 0.2047106\ttest: 0.2058410\tbest: 0.2058372 (21)\ttotal: 1.49s\tremaining: 4.73s\n",
      "24:\tlearn: 0.2046527\ttest: 0.2058416\tbest: 0.2058372 (21)\ttotal: 1.56s\tremaining: 4.69s\n",
      "25:\tlearn: 0.2046372\ttest: 0.2058452\tbest: 0.2058372 (21)\ttotal: 1.63s\tremaining: 4.65s\n",
      "26:\tlearn: 0.2045851\ttest: 0.2057976\tbest: 0.2057976 (26)\ttotal: 1.7s\tremaining: 4.6s\n",
      "27:\tlearn: 0.2045806\ttest: 0.2057981\tbest: 0.2057976 (26)\ttotal: 1.78s\tremaining: 4.57s\n",
      "28:\tlearn: 0.2045421\ttest: 0.2057712\tbest: 0.2057712 (28)\ttotal: 1.85s\tremaining: 4.54s\n",
      "29:\tlearn: 0.2045124\ttest: 0.2057452\tbest: 0.2057452 (29)\ttotal: 1.94s\tremaining: 4.53s\n",
      "30:\tlearn: 0.2045114\ttest: 0.2057468\tbest: 0.2057452 (29)\ttotal: 2.02s\tremaining: 4.5s\n",
      "31:\tlearn: 0.2045063\ttest: 0.2057487\tbest: 0.2057452 (29)\ttotal: 2.1s\tremaining: 4.46s\n",
      "32:\tlearn: 0.2044836\ttest: 0.2057511\tbest: 0.2057452 (29)\ttotal: 2.19s\tremaining: 4.44s\n",
      "33:\tlearn: 0.2044809\ttest: 0.2057495\tbest: 0.2057452 (29)\ttotal: 2.27s\tremaining: 4.41s\n",
      "34:\tlearn: 0.2044740\ttest: 0.2057499\tbest: 0.2057452 (29)\ttotal: 2.36s\tremaining: 4.38s\n",
      "35:\tlearn: 0.2044739\ttest: 0.2057500\tbest: 0.2057452 (29)\ttotal: 2.42s\tremaining: 4.31s\n",
      "36:\tlearn: 0.2044663\ttest: 0.2057328\tbest: 0.2057328 (36)\ttotal: 2.49s\tremaining: 4.24s\n",
      "37:\tlearn: 0.2044639\ttest: 0.2057317\tbest: 0.2057317 (37)\ttotal: 2.56s\tremaining: 4.17s\n",
      "38:\tlearn: 0.2044522\ttest: 0.2057344\tbest: 0.2057317 (37)\ttotal: 2.63s\tremaining: 4.11s\n",
      "39:\tlearn: 0.2044507\ttest: 0.2057351\tbest: 0.2057317 (37)\ttotal: 2.7s\tremaining: 4.05s\n",
      "40:\tlearn: 0.2044437\ttest: 0.2057353\tbest: 0.2057317 (37)\ttotal: 2.78s\tremaining: 4s\n",
      "41:\tlearn: 0.2044320\ttest: 0.2057325\tbest: 0.2057317 (37)\ttotal: 2.84s\tremaining: 3.92s\n",
      "42:\tlearn: 0.2044249\ttest: 0.2057330\tbest: 0.2057317 (37)\ttotal: 2.91s\tremaining: 3.86s\n",
      "43:\tlearn: 0.2044126\ttest: 0.2057265\tbest: 0.2057265 (43)\ttotal: 2.97s\tremaining: 3.78s\n",
      "44:\tlearn: 0.2044115\ttest: 0.2057265\tbest: 0.2057265 (43)\ttotal: 3.04s\tremaining: 3.72s\n",
      "45:\tlearn: 0.2044085\ttest: 0.2057269\tbest: 0.2057265 (43)\ttotal: 3.12s\tremaining: 3.66s\n",
      "46:\tlearn: 0.2044070\ttest: 0.2057265\tbest: 0.2057265 (43)\ttotal: 3.19s\tremaining: 3.6s\n",
      "47:\tlearn: 0.2044068\ttest: 0.2057264\tbest: 0.2057264 (47)\ttotal: 3.25s\tremaining: 3.52s\n",
      "48:\tlearn: 0.2043861\ttest: 0.2057215\tbest: 0.2057215 (48)\ttotal: 3.32s\tremaining: 3.45s\n",
      "49:\tlearn: 0.2043772\ttest: 0.2057163\tbest: 0.2057163 (49)\ttotal: 3.39s\tremaining: 3.39s\n",
      "50:\tlearn: 0.2043771\ttest: 0.2057162\tbest: 0.2057162 (50)\ttotal: 3.46s\tremaining: 3.33s\n",
      "51:\tlearn: 0.2043601\ttest: 0.2057020\tbest: 0.2057020 (51)\ttotal: 3.55s\tremaining: 3.27s\n",
      "52:\tlearn: 0.2043598\ttest: 0.2057026\tbest: 0.2057020 (51)\ttotal: 3.62s\tremaining: 3.21s\n",
      "53:\tlearn: 0.2043571\ttest: 0.2056990\tbest: 0.2056990 (53)\ttotal: 3.69s\tremaining: 3.15s\n",
      "54:\tlearn: 0.2043381\ttest: 0.2056934\tbest: 0.2056934 (54)\ttotal: 3.77s\tremaining: 3.08s\n",
      "55:\tlearn: 0.2043012\ttest: 0.2057026\tbest: 0.2056934 (54)\ttotal: 3.86s\tremaining: 3.03s\n",
      "56:\tlearn: 0.2043007\ttest: 0.2057022\tbest: 0.2056934 (54)\ttotal: 3.95s\tremaining: 2.98s\n",
      "57:\tlearn: 0.2042992\ttest: 0.2057023\tbest: 0.2056934 (54)\ttotal: 4.01s\tremaining: 2.91s\n",
      "58:\tlearn: 0.2042989\ttest: 0.2057032\tbest: 0.2056934 (54)\ttotal: 4.08s\tremaining: 2.84s\n",
      "59:\tlearn: 0.2042785\ttest: 0.2057004\tbest: 0.2056934 (54)\ttotal: 4.17s\tremaining: 2.78s\n",
      "60:\tlearn: 0.2042740\ttest: 0.2057006\tbest: 0.2056934 (54)\ttotal: 4.24s\tremaining: 2.71s\n",
      "61:\tlearn: 0.2042698\ttest: 0.2057026\tbest: 0.2056934 (54)\ttotal: 4.31s\tremaining: 2.64s\n",
      "62:\tlearn: 0.2042511\ttest: 0.2056998\tbest: 0.2056934 (54)\ttotal: 4.39s\tremaining: 2.58s\n",
      "63:\tlearn: 0.2042473\ttest: 0.2056992\tbest: 0.2056934 (54)\ttotal: 4.45s\tremaining: 2.5s\n",
      "64:\tlearn: 0.2042471\ttest: 0.2056997\tbest: 0.2056934 (54)\ttotal: 4.52s\tremaining: 2.43s\n",
      "65:\tlearn: 0.2042445\ttest: 0.2057030\tbest: 0.2056934 (54)\ttotal: 4.59s\tremaining: 2.36s\n",
      "66:\tlearn: 0.2042426\ttest: 0.2057047\tbest: 0.2056934 (54)\ttotal: 4.66s\tremaining: 2.29s\n",
      "67:\tlearn: 0.2042416\ttest: 0.2057029\tbest: 0.2056934 (54)\ttotal: 4.73s\tremaining: 2.23s\n",
      "68:\tlearn: 0.2042206\ttest: 0.2057046\tbest: 0.2056934 (54)\ttotal: 4.81s\tremaining: 2.16s\n",
      "69:\tlearn: 0.2042046\ttest: 0.2056905\tbest: 0.2056905 (69)\ttotal: 4.89s\tremaining: 2.1s\n",
      "70:\tlearn: 0.2042006\ttest: 0.2056900\tbest: 0.2056900 (70)\ttotal: 4.97s\tremaining: 2.03s\n",
      "71:\tlearn: 0.2042005\ttest: 0.2056900\tbest: 0.2056900 (71)\ttotal: 5.04s\tremaining: 1.96s\n",
      "72:\tlearn: 0.2041916\ttest: 0.2056757\tbest: 0.2056757 (72)\ttotal: 5.11s\tremaining: 1.89s\n",
      "73:\tlearn: 0.2041883\ttest: 0.2056779\tbest: 0.2056757 (72)\ttotal: 5.18s\tremaining: 1.82s\n",
      "74:\tlearn: 0.2041880\ttest: 0.2056782\tbest: 0.2056757 (72)\ttotal: 5.25s\tremaining: 1.75s\n",
      "75:\tlearn: 0.2041877\ttest: 0.2056780\tbest: 0.2056757 (72)\ttotal: 5.31s\tremaining: 1.68s\n",
      "76:\tlearn: 0.2041874\ttest: 0.2056772\tbest: 0.2056757 (72)\ttotal: 5.38s\tremaining: 1.61s\n",
      "77:\tlearn: 0.2041867\ttest: 0.2056776\tbest: 0.2056757 (72)\ttotal: 5.46s\tremaining: 1.54s\n",
      "78:\tlearn: 0.2041858\ttest: 0.2056747\tbest: 0.2056747 (78)\ttotal: 5.53s\tremaining: 1.47s\n",
      "79:\tlearn: 0.2041815\ttest: 0.2056777\tbest: 0.2056747 (78)\ttotal: 5.61s\tremaining: 1.4s\n",
      "80:\tlearn: 0.2041722\ttest: 0.2056805\tbest: 0.2056747 (78)\ttotal: 5.7s\tremaining: 1.34s\n",
      "81:\tlearn: 0.2041710\ttest: 0.2056769\tbest: 0.2056747 (78)\ttotal: 5.79s\tremaining: 1.27s\n",
      "82:\tlearn: 0.2041709\ttest: 0.2056769\tbest: 0.2056747 (78)\ttotal: 5.86s\tremaining: 1.2s\n",
      "83:\tlearn: 0.2041584\ttest: 0.2056877\tbest: 0.2056747 (78)\ttotal: 5.93s\tremaining: 1.13s\n",
      "84:\tlearn: 0.2041583\ttest: 0.2056876\tbest: 0.2056747 (78)\ttotal: 6s\tremaining: 1.06s\n",
      "85:\tlearn: 0.2041555\ttest: 0.2056929\tbest: 0.2056747 (78)\ttotal: 6.06s\tremaining: 987ms\n",
      "86:\tlearn: 0.2041554\ttest: 0.2056928\tbest: 0.2056747 (78)\ttotal: 6.13s\tremaining: 916ms\n",
      "87:\tlearn: 0.2041468\ttest: 0.2056946\tbest: 0.2056747 (78)\ttotal: 6.19s\tremaining: 845ms\n",
      "88:\tlearn: 0.2041457\ttest: 0.2056916\tbest: 0.2056747 (78)\ttotal: 6.26s\tremaining: 774ms\n",
      "89:\tlearn: 0.2041443\ttest: 0.2056907\tbest: 0.2056747 (78)\ttotal: 6.34s\tremaining: 704ms\n",
      "90:\tlearn: 0.2041441\ttest: 0.2056902\tbest: 0.2056747 (78)\ttotal: 6.42s\tremaining: 635ms\n",
      "91:\tlearn: 0.2041441\ttest: 0.2056898\tbest: 0.2056747 (78)\ttotal: 6.5s\tremaining: 566ms\n",
      "92:\tlearn: 0.2041438\ttest: 0.2056897\tbest: 0.2056747 (78)\ttotal: 6.59s\tremaining: 496ms\n",
      "93:\tlearn: 0.2041391\ttest: 0.2056931\tbest: 0.2056747 (78)\ttotal: 6.66s\tremaining: 425ms\n",
      "94:\tlearn: 0.2041385\ttest: 0.2056925\tbest: 0.2056747 (78)\ttotal: 6.73s\tremaining: 354ms\n"
     ]
    },
    {
     "name": "stdout",
     "output_type": "stream",
     "text": [
      "95:\tlearn: 0.2041383\ttest: 0.2056925\tbest: 0.2056747 (78)\ttotal: 6.79s\tremaining: 283ms\n",
      "96:\tlearn: 0.2041366\ttest: 0.2056922\tbest: 0.2056747 (78)\ttotal: 6.87s\tremaining: 213ms\n",
      "97:\tlearn: 0.2041354\ttest: 0.2056905\tbest: 0.2056747 (78)\ttotal: 6.98s\tremaining: 142ms\n",
      "98:\tlearn: 0.2041354\ttest: 0.2056904\tbest: 0.2056747 (78)\ttotal: 7.08s\tremaining: 71.5ms\n",
      "99:\tlearn: 0.2041352\ttest: 0.2056912\tbest: 0.2056747 (78)\ttotal: 7.17s\tremaining: 0us\n",
      "\n",
      "bestTest = 0.2056747131\n",
      "bestIteration = 78\n",
      "\n",
      "Shrink model to first 79 iterations.\n"
     ]
    },
    {
     "data": {
      "text/plain": [
       "<catboost.core.CatBoostClassifier at 0x7fa9f99f7b50>"
      ]
     },
     "execution_count": 124,
     "metadata": {},
     "output_type": "execute_result"
    }
   ],
   "source": [
    "cat_model_new = CatBoostClassifier(\n",
    "    iterations=100,\n",
    "    random_seed=123,\n",
    "    learning_rate=0.5,\n",
    "    custom_loss=['AUC', 'Accuracy']\n",
    ")\n",
    "\n",
    "cat_model_new.fit(\n",
    "    X_train, y_train,\n",
    "    cat_features=cat_features_index,\n",
    "    eval_set=(X_test, y_test),\n",
    "    verbose=True,\n",
    "    plot=True\n",
    ")"
   ]
  },
  {
   "cell_type": "code",
   "execution_count": 125,
   "id": "5d26c404",
   "metadata": {},
   "outputs": [
    {
     "name": "stdout",
     "output_type": "stream",
     "text": [
      "the test accuracy is :0.931639\n"
     ]
    }
   ],
   "source": [
    "from catboost import cv\n",
    "from sklearn.metrics import accuracy_score\n",
    "\n",
    "print('the test accuracy is :{:.6f}'.format(accuracy_score(y_test, cat_model_new.predict(X_test))))"
   ]
  },
  {
   "cell_type": "code",
   "execution_count": 126,
   "id": "30bc648c",
   "metadata": {},
   "outputs": [
    {
     "name": "stdout",
     "output_type": "stream",
     "text": [
      "\n",
      "Test  Accuracy : 0.93\n",
      "Train Accuracy : 0.93\n"
     ]
    }
   ],
   "source": [
    "test_preds = cat_model_new.predict(X_test)\n",
    "train_preds = cat_model_new.predict(X_train)\n",
    "\n",
    "print(\"\\nTest  Accuracy : %.2f\"%cat_model_new.score(X_test, y_test))\n",
    "print(\"Train Accuracy : %.2f\"%cat_model_new.score(X_train, y_train))"
   ]
  },
  {
   "cell_type": "code",
   "execution_count": 127,
   "id": "90bb6e0c",
   "metadata": {},
   "outputs": [
    {
     "data": {
      "text/plain": [
       "(array([ 0,  1,  2,  3,  4,  5,  6,  7,  8,  9, 10]),\n",
       " [Text(0, 0, 'contact_other_covid'),\n",
       "  Text(1, 0, 'hypertension'),\n",
       "  Text(2, 0, 'diabetes'),\n",
       "  Text(3, 0, 'pregnancy'),\n",
       "  Text(4, 0, 'obesity'),\n",
       "  Text(5, 0, 'copd'),\n",
       "  Text(6, 0, 'renal_chronic'),\n",
       "  Text(7, 0, 'cardiovascular'),\n",
       "  Text(8, 0, 'inmsupr'),\n",
       "  Text(9, 0, 'asthma'),\n",
       "  Text(10, 0, 'tobacco')])"
      ]
     },
     "execution_count": 127,
     "metadata": {},
     "output_type": "execute_result"
    },
    {
     "data": {
      "image/png": "[encoded data removed]",
      "text/plain": [
       "<Figure size 864x432 with 1 Axes>"
      ]
     },
     "metadata": {
      "needs_background": "light"
     },
     "output_type": "display_data"
    }
   ],
   "source": [
    "# Create a dataframe of feature importance \n",
    "df_feature_importance = pd.DataFrame(cat_model.get_feature_importance(prettified=True))\n",
    "#plotting feature importance\n",
    "plt.figure(figsize=(12, 6));\n",
    "# horizontal\n",
    "# feature_plot= sns.barplot(x=\"Importances\", y=\"Feature Id\", data=df_feature_importance,palette=\"cool\");\n",
    "# vertical\n",
    "feature_plot= sns.barplot(x=\"Feature Id\", y=\"Importances\", data=df_feature_importance,palette=\"cool\");\n",
    "plt.title('features importance');\n",
    "plt.xticks(rotation=90)"
   ]
  },
  {
   "cell_type": "code",
   "execution_count": 128,
   "id": "b5b577e6",
   "metadata": {},
   "outputs": [
    {
     "data": {
      "text/html": [
       "<div>\n",
       "<style scoped>\n",
       "    .dataframe tbody tr th:only-of-type {\n",
       "        vertical-align: middle;\n",
       "    }\n",
       "\n",
       "    .dataframe tbody tr th {\n",
       "        vertical-align: top;\n",
       "    }\n",
       "\n",
       "    .dataframe thead th {\n",
       "        text-align: right;\n",
       "    }\n",
       "</style>\n",
       "<table border=\"1\" class=\"dataframe\">\n",
       "  <thead>\n",
       "    <tr style=\"text-align: right;\">\n",
       "      <th></th>\n",
       "      <th>Feature Id</th>\n",
       "      <th>Importances</th>\n",
       "    </tr>\n",
       "  </thead>\n",
       "  <tbody>\n",
       "    <tr>\n",
       "      <th>0</th>\n",
       "      <td>contact_other_covid</td>\n",
       "      <td>33.773530</td>\n",
       "    </tr>\n",
       "    <tr>\n",
       "      <th>1</th>\n",
       "      <td>hypertension</td>\n",
       "      <td>18.258893</td>\n",
       "    </tr>\n",
       "    <tr>\n",
       "      <th>2</th>\n",
       "      <td>diabetes</td>\n",
       "      <td>15.419741</td>\n",
       "    </tr>\n",
       "    <tr>\n",
       "      <th>3</th>\n",
       "      <td>pregnancy</td>\n",
       "      <td>15.007511</td>\n",
       "    </tr>\n",
       "    <tr>\n",
       "      <th>4</th>\n",
       "      <td>obesity</td>\n",
       "      <td>6.195345</td>\n",
       "    </tr>\n",
       "    <tr>\n",
       "      <th>5</th>\n",
       "      <td>copd</td>\n",
       "      <td>4.214991</td>\n",
       "    </tr>\n",
       "    <tr>\n",
       "      <th>6</th>\n",
       "      <td>renal_chronic</td>\n",
       "      <td>2.158601</td>\n",
       "    </tr>\n",
       "    <tr>\n",
       "      <th>7</th>\n",
       "      <td>cardiovascular</td>\n",
       "      <td>1.657705</td>\n",
       "    </tr>\n",
       "    <tr>\n",
       "      <th>8</th>\n",
       "      <td>inmsupr</td>\n",
       "      <td>1.376080</td>\n",
       "    </tr>\n",
       "    <tr>\n",
       "      <th>9</th>\n",
       "      <td>asthma</td>\n",
       "      <td>1.083239</td>\n",
       "    </tr>\n",
       "    <tr>\n",
       "      <th>10</th>\n",
       "      <td>tobacco</td>\n",
       "      <td>0.854365</td>\n",
       "    </tr>\n",
       "  </tbody>\n",
       "</table>\n",
       "</div>"
      ],
      "text/plain": [
       "             Feature Id  Importances\n",
       "0   contact_other_covid    33.773530\n",
       "1          hypertension    18.258893\n",
       "2              diabetes    15.419741\n",
       "3             pregnancy    15.007511\n",
       "4               obesity     6.195345\n",
       "5                  copd     4.214991\n",
       "6         renal_chronic     2.158601\n",
       "7        cardiovascular     1.657705\n",
       "8               inmsupr     1.376080\n",
       "9                asthma     1.083239\n",
       "10              tobacco     0.854365"
      ]
     },
     "execution_count": 128,
     "metadata": {},
     "output_type": "execute_result"
    }
   ],
   "source": [
    "df_feature_importance"
   ]
  },
  {
   "cell_type": "code",
   "execution_count": null,
   "id": "1aa6e725-d8ad-499b-bf61-529c9ad10fab",
   "metadata": {},
   "outputs": [],
   "source": []
  },
  {
   "cell_type": "code",
   "execution_count": null,
   "id": "ca62e3b5",
   "metadata": {},
   "outputs": [],
   "source": []
  }
 ],
 "metadata": {
  "kernelspec": {
   "display_name": "mlenv_latest",
   "language": "python",
   "name": "mlenv_latest"
  },
  "language_info": {
   "codemirror_mode": {
    "name": "ipython",
    "version": 3
   },
   "file_extension": ".py",
   "mimetype": "text/x-python",
   "name": "python",
   "nbconvert_exporter": "python",
   "pygments_lexer": "ipython3",
   "version": "3.7.11"
  }
 },
 "nbformat": 4,
 "nbformat_minor": 5
}
